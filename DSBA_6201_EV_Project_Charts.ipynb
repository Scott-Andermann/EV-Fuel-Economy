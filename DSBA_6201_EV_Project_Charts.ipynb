{
  "nbformat": 4,
  "nbformat_minor": 0,
  "metadata": {
    "colab": {
      "name": "DSBA 6201 EV Project_Charts.ipynb",
      "provenance": [],
      "collapsed_sections": []
    },
    "kernelspec": {
      "name": "python3",
      "display_name": "Python 3"
    }
  },
  "cells": [
    {
      "cell_type": "markdown",
      "metadata": {
        "id": "U4mJ2yIss6dQ"
      },
      "source": [
        "# Data Exploration"
      ]
    },
    {
      "cell_type": "code",
      "metadata": {
        "id": "ZXmHmKXjJq0M",
        "colab": {
          "base_uri": "https://localhost:8080/"
        },
        "outputId": "d7fe7950-7609-4420-e591-831e31c44579"
      },
      "source": [
        "# import libraries and mount drive\n",
        "import pandas as pd\n",
        "import numpy as np\n",
        "from sklearn.model_selection import train_test_split\n",
        "from google.colab import drive\n",
        "# Uncomment out below line if drive is not already mounted\n",
        "drive.mount('/content/drive')"
      ],
      "execution_count": null,
      "outputs": [
        {
          "output_type": "stream",
          "text": [
            "Drive already mounted at /content/drive; to attempt to forcibly remount, call drive.mount(\"/content/drive\", force_remount=True).\n"
          ],
          "name": "stdout"
        }
      ]
    },
    {
      "cell_type": "code",
      "metadata": {
        "id": "juzrRZARuQVO",
        "colab": {
          "base_uri": "https://localhost:8080/",
          "height": 306
        },
        "outputId": "ffb5ca96-5cb0-4303-c477-89970ecbe8f0"
      },
      "source": [
        "# load data\n",
        "df = pd.read_csv('/content/drive/MyDrive/DSBA6201_EV_Project/complete_FE_data.csv', header=0, encoding='latin')\n",
        "df.head()"
      ],
      "execution_count": null,
      "outputs": [
        {
          "output_type": "execute_result",
          "data": {
            "text/html": [
              "<div>\n",
              "<style scoped>\n",
              "    .dataframe tbody tr th:only-of-type {\n",
              "        vertical-align: middle;\n",
              "    }\n",
              "\n",
              "    .dataframe tbody tr th {\n",
              "        vertical-align: top;\n",
              "    }\n",
              "\n",
              "    .dataframe thead th {\n",
              "        text-align: right;\n",
              "    }\n",
              "</style>\n",
              "<table border=\"1\" class=\"dataframe\">\n",
              "  <thead>\n",
              "    <tr style=\"text-align: right;\">\n",
              "      <th></th>\n",
              "      <th>Model Year</th>\n",
              "      <th>Mfr Name</th>\n",
              "      <th>Division</th>\n",
              "      <th>Carline</th>\n",
              "      <th>Eng Displ</th>\n",
              "      <th># Cyl</th>\n",
              "      <th>City FE (Guide) - Conventional Fuel</th>\n",
              "      <th>Hwy FE (Guide) - Conventional Fuel</th>\n",
              "      <th>Comb FE (Guide) - Conventional Fuel</th>\n",
              "      <th>Fuel Usage Desc - Conventional Fuel</th>\n",
              "      <th>Annual Fuel1 Cost - Conventional Fuel</th>\n",
              "      <th>EPA Calculated Annual Fuel Cost - Conventional Fuel -----  Annual fuel cost error. Please revise Verify.</th>\n",
              "      <th>Carline Class Desc</th>\n",
              "    </tr>\n",
              "  </thead>\n",
              "  <tbody>\n",
              "    <tr>\n",
              "      <th>0</th>\n",
              "      <td>2015</td>\n",
              "      <td>Honda</td>\n",
              "      <td>Acura</td>\n",
              "      <td>ILX</td>\n",
              "      <td>2.0</td>\n",
              "      <td>4.0</td>\n",
              "      <td>24</td>\n",
              "      <td>35</td>\n",
              "      <td>28</td>\n",
              "      <td>Gasoline (Premium Unleaded Recommended)</td>\n",
              "      <td>2050.0</td>\n",
              "      <td>2050.0</td>\n",
              "      <td>Compact Cars</td>\n",
              "    </tr>\n",
              "    <tr>\n",
              "      <th>1</th>\n",
              "      <td>2015</td>\n",
              "      <td>Honda</td>\n",
              "      <td>Acura</td>\n",
              "      <td>ILX</td>\n",
              "      <td>2.4</td>\n",
              "      <td>4.0</td>\n",
              "      <td>22</td>\n",
              "      <td>31</td>\n",
              "      <td>25</td>\n",
              "      <td>Gasoline (Premium Unleaded Recommended)</td>\n",
              "      <td>2300.0</td>\n",
              "      <td>2300.0</td>\n",
              "      <td>Compact Cars</td>\n",
              "    </tr>\n",
              "    <tr>\n",
              "      <th>2</th>\n",
              "      <td>2015</td>\n",
              "      <td>Honda</td>\n",
              "      <td>Acura</td>\n",
              "      <td>TLX</td>\n",
              "      <td>2.4</td>\n",
              "      <td>4.0</td>\n",
              "      <td>24</td>\n",
              "      <td>35</td>\n",
              "      <td>28</td>\n",
              "      <td>Gasoline (Premium Unleaded Recommended)</td>\n",
              "      <td>2050.0</td>\n",
              "      <td>2050.0</td>\n",
              "      <td>Compact Cars</td>\n",
              "    </tr>\n",
              "    <tr>\n",
              "      <th>3</th>\n",
              "      <td>2015</td>\n",
              "      <td>Honda</td>\n",
              "      <td>Acura</td>\n",
              "      <td>TLX</td>\n",
              "      <td>3.5</td>\n",
              "      <td>6.0</td>\n",
              "      <td>21</td>\n",
              "      <td>34</td>\n",
              "      <td>25</td>\n",
              "      <td>Gasoline (Premium Unleaded Recommended)</td>\n",
              "      <td>2300.0</td>\n",
              "      <td>2300.0</td>\n",
              "      <td>Compact Cars</td>\n",
              "    </tr>\n",
              "    <tr>\n",
              "      <th>4</th>\n",
              "      <td>2015</td>\n",
              "      <td>Honda</td>\n",
              "      <td>Acura</td>\n",
              "      <td>TLX AWD</td>\n",
              "      <td>3.5</td>\n",
              "      <td>6.0</td>\n",
              "      <td>21</td>\n",
              "      <td>31</td>\n",
              "      <td>25</td>\n",
              "      <td>Gasoline (Premium Unleaded Recommended)</td>\n",
              "      <td>2300.0</td>\n",
              "      <td>2300.0</td>\n",
              "      <td>Compact Cars</td>\n",
              "    </tr>\n",
              "  </tbody>\n",
              "</table>\n",
              "</div>"
            ],
            "text/plain": [
              "   Model Year  ... Carline Class Desc\n",
              "0        2015  ...       Compact Cars\n",
              "1        2015  ...       Compact Cars\n",
              "2        2015  ...       Compact Cars\n",
              "3        2015  ...       Compact Cars\n",
              "4        2015  ...       Compact Cars\n",
              "\n",
              "[5 rows x 13 columns]"
            ]
          },
          "metadata": {
            "tags": []
          },
          "execution_count": 68
        }
      ]
    },
    {
      "cell_type": "code",
      "metadata": {
        "colab": {
          "base_uri": "https://localhost:8080/"
        },
        "id": "Oukw7As5xser",
        "outputId": "80ad25c2-55be-476d-ef5c-5a896b078b90"
      },
      "source": [
        "df.info()"
      ],
      "execution_count": null,
      "outputs": [
        {
          "output_type": "stream",
          "text": [
            "<class 'pandas.core.frame.DataFrame'>\n",
            "RangeIndex: 3504 entries, 0 to 3503\n",
            "Data columns (total 13 columns):\n",
            " #   Column                                                                                                    Non-Null Count  Dtype  \n",
            "---  ------                                                                                                    --------------  -----  \n",
            " 0   Model Year                                                                                                3504 non-null   int64  \n",
            " 1   Mfr Name                                                                                                  3504 non-null   object \n",
            " 2   Division                                                                                                  3504 non-null   object \n",
            " 3   Carline                                                                                                   3504 non-null   object \n",
            " 4   Eng Displ                                                                                                 3309 non-null   float64\n",
            " 5   # Cyl                                                                                                     3309 non-null   float64\n",
            " 6   City FE (Guide) - Conventional Fuel                                                                       3504 non-null   int64  \n",
            " 7   Hwy FE (Guide) - Conventional Fuel                                                                        3504 non-null   int64  \n",
            " 8   Comb FE (Guide) - Conventional Fuel                                                                       3504 non-null   int64  \n",
            " 9   Fuel Usage Desc - Conventional Fuel                                                                       3504 non-null   object \n",
            " 10  Annual Fuel1 Cost - Conventional Fuel                                                                     3504 non-null   float64\n",
            " 11  EPA Calculated Annual Fuel Cost - Conventional Fuel -----  Annual fuel cost error. Please revise Verify.  3309 non-null   float64\n",
            " 12  Carline Class Desc                                                                                        3504 non-null   object \n",
            "dtypes: float64(4), int64(4), object(5)\n",
            "memory usage: 356.0+ KB\n"
          ],
          "name": "stdout"
        }
      ]
    },
    {
      "cell_type": "code",
      "metadata": {
        "id": "_4cDoMpazgeC"
      },
      "source": [
        "# Rename columns\n",
        "df.columns = ['yr', 'mfr','div','line','eng','cyl','fe_city','fe_hwy','fe_comb','fuel_usage','fuel_cost','fuel_cost_epa','car_class']"
      ],
      "execution_count": null,
      "outputs": []
    },
    {
      "cell_type": "code",
      "metadata": {
        "colab": {
          "base_uri": "https://localhost:8080/"
        },
        "id": "5MLyzfTqyWjO",
        "outputId": "986a165e-2f18-45f5-b863-b98700dcf7fb"
      },
      "source": [
        "df.isnull().sum()"
      ],
      "execution_count": null,
      "outputs": [
        {
          "output_type": "execute_result",
          "data": {
            "text/plain": [
              "yr                 0\n",
              "mfr                0\n",
              "div                0\n",
              "line               0\n",
              "eng              195\n",
              "cyl              195\n",
              "fe_city            0\n",
              "fe_hwy             0\n",
              "fe_comb            0\n",
              "fuel_usage         0\n",
              "fuel_cost          0\n",
              "fuel_cost_epa    195\n",
              "car_class          0\n",
              "dtype: int64"
            ]
          },
          "metadata": {
            "tags": []
          },
          "execution_count": 71
        }
      ]
    },
    {
      "cell_type": "code",
      "metadata": {
        "colab": {
          "base_uri": "https://localhost:8080/"
        },
        "id": "bePLMGRXzNGc",
        "outputId": "1f95faa2-f85a-4c8e-907b-d8253270eff3"
      },
      "source": [
        "print(df['mfr'].isnull().sum() / len(df))"
      ],
      "execution_count": null,
      "outputs": [
        {
          "output_type": "stream",
          "text": [
            "0.0\n"
          ],
          "name": "stdout"
        }
      ]
    },
    {
      "cell_type": "code",
      "metadata": {
        "id": "vXL-ToJtyxYy",
        "colab": {
          "base_uri": "https://localhost:8080/",
          "height": 297
        },
        "outputId": "eeae90d8-1da0-460d-bc68-a54fe915937a"
      },
      "source": [
        "df.describe(include=['number'])"
      ],
      "execution_count": null,
      "outputs": [
        {
          "output_type": "execute_result",
          "data": {
            "text/html": [
              "<div>\n",
              "<style scoped>\n",
              "    .dataframe tbody tr th:only-of-type {\n",
              "        vertical-align: middle;\n",
              "    }\n",
              "\n",
              "    .dataframe tbody tr th {\n",
              "        vertical-align: top;\n",
              "    }\n",
              "\n",
              "    .dataframe thead th {\n",
              "        text-align: right;\n",
              "    }\n",
              "</style>\n",
              "<table border=\"1\" class=\"dataframe\">\n",
              "  <thead>\n",
              "    <tr style=\"text-align: right;\">\n",
              "      <th></th>\n",
              "      <th>yr</th>\n",
              "      <th>eng</th>\n",
              "      <th>cyl</th>\n",
              "      <th>fe_city</th>\n",
              "      <th>fe_hwy</th>\n",
              "      <th>fe_comb</th>\n",
              "      <th>fuel_cost</th>\n",
              "      <th>fuel_cost_epa</th>\n",
              "    </tr>\n",
              "  </thead>\n",
              "  <tbody>\n",
              "    <tr>\n",
              "      <th>count</th>\n",
              "      <td>3504.000000</td>\n",
              "      <td>3309.000000</td>\n",
              "      <td>3309.000000</td>\n",
              "      <td>3504.000000</td>\n",
              "      <td>3504.000000</td>\n",
              "      <td>3504.000000</td>\n",
              "      <td>3504.000000</td>\n",
              "      <td>3309.000000</td>\n",
              "    </tr>\n",
              "    <tr>\n",
              "      <th>mean</th>\n",
              "      <td>2017.887557</td>\n",
              "      <td>2.998821</td>\n",
              "      <td>5.386522</td>\n",
              "      <td>27.156678</td>\n",
              "      <td>34.030251</td>\n",
              "      <td>29.600171</td>\n",
              "      <td>1799.580650</td>\n",
              "      <td>1882.653370</td>\n",
              "    </tr>\n",
              "    <tr>\n",
              "      <th>std</th>\n",
              "      <td>1.948648</td>\n",
              "      <td>1.334948</td>\n",
              "      <td>1.674786</td>\n",
              "      <td>22.010203</td>\n",
              "      <td>17.639544</td>\n",
              "      <td>19.993396</td>\n",
              "      <td>629.744477</td>\n",
              "      <td>543.816039</td>\n",
              "    </tr>\n",
              "    <tr>\n",
              "      <th>min</th>\n",
              "      <td>2015.000000</td>\n",
              "      <td>1.000000</td>\n",
              "      <td>3.000000</td>\n",
              "      <td>10.000000</td>\n",
              "      <td>14.000000</td>\n",
              "      <td>12.000000</td>\n",
              "      <td>286.587594</td>\n",
              "      <td>600.000000</td>\n",
              "    </tr>\n",
              "    <tr>\n",
              "      <th>25%</th>\n",
              "      <td>2016.000000</td>\n",
              "      <td>2.000000</td>\n",
              "      <td>4.000000</td>\n",
              "      <td>18.000000</td>\n",
              "      <td>25.000000</td>\n",
              "      <td>20.000000</td>\n",
              "      <td>1400.000000</td>\n",
              "      <td>1500.000000</td>\n",
              "    </tr>\n",
              "    <tr>\n",
              "      <th>50%</th>\n",
              "      <td>2018.000000</td>\n",
              "      <td>2.500000</td>\n",
              "      <td>4.000000</td>\n",
              "      <td>22.000000</td>\n",
              "      <td>30.000000</td>\n",
              "      <td>25.000000</td>\n",
              "      <td>1800.000000</td>\n",
              "      <td>1850.000000</td>\n",
              "    </tr>\n",
              "    <tr>\n",
              "      <th>75%</th>\n",
              "      <td>2020.000000</td>\n",
              "      <td>3.600000</td>\n",
              "      <td>6.000000</td>\n",
              "      <td>26.000000</td>\n",
              "      <td>35.000000</td>\n",
              "      <td>30.000000</td>\n",
              "      <td>2200.000000</td>\n",
              "      <td>2200.000000</td>\n",
              "    </tr>\n",
              "    <tr>\n",
              "      <th>max</th>\n",
              "      <td>2021.000000</td>\n",
              "      <td>7.000000</td>\n",
              "      <td>12.000000</td>\n",
              "      <td>150.000000</td>\n",
              "      <td>133.000000</td>\n",
              "      <td>142.000000</td>\n",
              "      <td>4050.000000</td>\n",
              "      <td>4050.000000</td>\n",
              "    </tr>\n",
              "  </tbody>\n",
              "</table>\n",
              "</div>"
            ],
            "text/plain": [
              "                yr          eng  ...    fuel_cost  fuel_cost_epa\n",
              "count  3504.000000  3309.000000  ...  3504.000000    3309.000000\n",
              "mean   2017.887557     2.998821  ...  1799.580650    1882.653370\n",
              "std       1.948648     1.334948  ...   629.744477     543.816039\n",
              "min    2015.000000     1.000000  ...   286.587594     600.000000\n",
              "25%    2016.000000     2.000000  ...  1400.000000    1500.000000\n",
              "50%    2018.000000     2.500000  ...  1800.000000    1850.000000\n",
              "75%    2020.000000     3.600000  ...  2200.000000    2200.000000\n",
              "max    2021.000000     7.000000  ...  4050.000000    4050.000000\n",
              "\n",
              "[8 rows x 8 columns]"
            ]
          },
          "metadata": {
            "tags": []
          },
          "execution_count": 73
        }
      ]
    },
    {
      "cell_type": "code",
      "metadata": {
        "id": "JO5nnKA30U1E",
        "colab": {
          "base_uri": "https://localhost:8080/",
          "height": 173
        },
        "outputId": "cab587e6-aeec-488d-88cb-d9b5c9dbb737"
      },
      "source": [
        "df.describe(include=['object'])"
      ],
      "execution_count": null,
      "outputs": [
        {
          "output_type": "execute_result",
          "data": {
            "text/html": [
              "<div>\n",
              "<style scoped>\n",
              "    .dataframe tbody tr th:only-of-type {\n",
              "        vertical-align: middle;\n",
              "    }\n",
              "\n",
              "    .dataframe tbody tr th {\n",
              "        vertical-align: top;\n",
              "    }\n",
              "\n",
              "    .dataframe thead th {\n",
              "        text-align: right;\n",
              "    }\n",
              "</style>\n",
              "<table border=\"1\" class=\"dataframe\">\n",
              "  <thead>\n",
              "    <tr style=\"text-align: right;\">\n",
              "      <th></th>\n",
              "      <th>mfr</th>\n",
              "      <th>div</th>\n",
              "      <th>line</th>\n",
              "      <th>fuel_usage</th>\n",
              "      <th>car_class</th>\n",
              "    </tr>\n",
              "  </thead>\n",
              "  <tbody>\n",
              "    <tr>\n",
              "      <th>count</th>\n",
              "      <td>3504</td>\n",
              "      <td>3504</td>\n",
              "      <td>3504</td>\n",
              "      <td>3504</td>\n",
              "      <td>3504</td>\n",
              "    </tr>\n",
              "    <tr>\n",
              "      <th>unique</th>\n",
              "      <td>37</td>\n",
              "      <td>49</td>\n",
              "      <td>721</td>\n",
              "      <td>7</td>\n",
              "      <td>11</td>\n",
              "    </tr>\n",
              "    <tr>\n",
              "      <th>top</th>\n",
              "      <td>General Motors</td>\n",
              "      <td>BMW</td>\n",
              "      <td>ACCORD</td>\n",
              "      <td>Gasoline (Regular Unleaded Recommended)</td>\n",
              "      <td>Midsize Cars</td>\n",
              "    </tr>\n",
              "    <tr>\n",
              "      <th>freq</th>\n",
              "      <td>488</td>\n",
              "      <td>346</td>\n",
              "      <td>40</td>\n",
              "      <td>1771</td>\n",
              "      <td>1192</td>\n",
              "    </tr>\n",
              "  </tbody>\n",
              "</table>\n",
              "</div>"
            ],
            "text/plain": [
              "                   mfr  ...     car_class\n",
              "count             3504  ...          3504\n",
              "unique              37  ...            11\n",
              "top     General Motors  ...  Midsize Cars\n",
              "freq               488  ...          1192\n",
              "\n",
              "[4 rows x 5 columns]"
            ]
          },
          "metadata": {
            "tags": []
          },
          "execution_count": 74
        }
      ]
    },
    {
      "cell_type": "code",
      "metadata": {
        "id": "zSffHrQx1Jjo",
        "colab": {
          "base_uri": "https://localhost:8080/"
        },
        "outputId": "b4c3bfe2-5a63-4a1d-f5ba-6d5046b92cc3"
      },
      "source": [
        "df['yr'].unique()"
      ],
      "execution_count": null,
      "outputs": [
        {
          "output_type": "execute_result",
          "data": {
            "text/plain": [
              "array([2015, 2016, 2017, 2018, 2020, 2019, 2021])"
            ]
          },
          "metadata": {
            "tags": []
          },
          "execution_count": 75
        }
      ]
    },
    {
      "cell_type": "code",
      "metadata": {
        "id": "F0hQVx5X1PA4",
        "colab": {
          "base_uri": "https://localhost:8080/"
        },
        "outputId": "12ae6904-b36a-4640-a2fe-52dee4b11e45"
      },
      "source": [
        "df['mfr'].unique()"
      ],
      "execution_count": null,
      "outputs": [
        {
          "output_type": "execute_result",
          "data": {
            "text/plain": [
              "array(['Honda', 'Volkswagen Group of', 'BMW', 'General Motors',\n",
              "       'Ford Motor Company', 'Hyundai', 'Nissan', 'Kia', 'Toyota',\n",
              "       'MAZDA', 'Mercedes-Benz', 'Mitsubishi Motors Co', 'Subaru',\n",
              "       'Volvo', 'Quantum Fuel System', 'FCA US LLC',\n",
              "       'Jaguar Land Rover L', 'SUBARU TECNICA INTE', 'AUDI ', 'AUDI',\n",
              "       'CHEVROLET', 'FORD', 'HYUNDAI', 'JAGUAR', 'KANDI', 'KIA', 'MINI',\n",
              "       'NISSAN', 'POLESTAR', 'TESLA', 'VOLKSWAGEN', 'VOLVO', 'FIAT',\n",
              "       'HONDA', 'SMART', 'MERCEDES-BENZ', 'MITSUBISHI'], dtype=object)"
            ]
          },
          "metadata": {
            "tags": []
          },
          "execution_count": 76
        }
      ]
    },
    {
      "cell_type": "code",
      "metadata": {
        "id": "FEC55OPr1R_m",
        "colab": {
          "base_uri": "https://localhost:8080/"
        },
        "outputId": "bce4cbbb-c1bf-443a-b055-bdd5fccbf159"
      },
      "source": [
        "df['div'].unique()"
      ],
      "execution_count": null,
      "outputs": [
        {
          "output_type": "execute_result",
          "data": {
            "text/plain": [
              "array(['Acura', 'Audi', 'BMW', 'Buick', 'Cadillac', 'Chevrolet', 'Ford',\n",
              "       'Honda', 'HYUNDAI MOTOR COMPANY', 'INFINITI',\n",
              "       'KIA MOTORS CORPORATION', 'LEXUS', 'MAZDA', 'Mercedes-Benz',\n",
              "       'Mini', 'Mitsubishi Motors Corporation', 'NISSAN', 'SCION',\n",
              "       'Subaru', 'TOYOTA', 'Volkswagen',\n",
              "       'Volvo Cars of North America, LLC', 'Chrysler', 'Dodge', 'Jaguar',\n",
              "       'Lincoln', 'GMC', 'RAM', 'ALFA ROMEO', 'GENESIS', 'Jeep',\n",
              "       'SUBARU TECNICA INTERNATIONAL', 'AUDI', 'CHEVROLET', 'FORD',\n",
              "       'HYUNDAI', 'JAGUAR', 'KANDI', 'KIA', 'MINI', 'POLESTAR', 'TESLA',\n",
              "       'VOLKSWAGEN', 'VOLVO', 'FIAT', 'HONDA', 'SMART', 'MERCEDES-BENZ',\n",
              "       'MITSUBISHI'], dtype=object)"
            ]
          },
          "metadata": {
            "tags": []
          },
          "execution_count": 77
        }
      ]
    },
    {
      "cell_type": "code",
      "metadata": {
        "id": "8db7gTyr1SaT",
        "colab": {
          "base_uri": "https://localhost:8080/"
        },
        "outputId": "3a01234d-ff6f-472a-b1f9-4ca7a5efb5ca"
      },
      "source": [
        "df['line'].unique()\n",
        "df['line'].value_counts()"
      ],
      "execution_count": null,
      "outputs": [
        {
          "output_type": "execute_result",
          "data": {
            "text/plain": [
              "ACCORD                          40\n",
              "Challenger                      35\n",
              "Elantra                         30\n",
              "Jetta                           29\n",
              "CIVIC 4Dr                       28\n",
              "                                ..\n",
              "Sonata HYBRID LIMITED            1\n",
              "Alpina B7 SWB                    1\n",
              "SMART EQ fortwo convertible      1\n",
              "ALTIMA 3.5                       1\n",
              "TESLA Model Y Standard Range     1\n",
              "Name: line, Length: 721, dtype: int64"
            ]
          },
          "metadata": {
            "tags": []
          },
          "execution_count": 78
        }
      ]
    },
    {
      "cell_type": "code",
      "metadata": {
        "colab": {
          "base_uri": "https://localhost:8080/"
        },
        "id": "Wad9bLel1SwS",
        "outputId": "679957dd-b49d-46b6-b504-47cb184fe181"
      },
      "source": [
        "df['fuel_usage'].unique()\n",
        "df['fuel_usage'].value_counts()"
      ],
      "execution_count": null,
      "outputs": [
        {
          "output_type": "execute_result",
          "data": {
            "text/plain": [
              "Gasoline (Regular Unleaded Recommended)       1771\n",
              "Gasoline (Premium Unleaded Recommended)        912\n",
              "Gasoline (Premium Unleaded Required)           552\n",
              "Electricity                                    195\n",
              "Gasoline (Mid Grade Unleaded Recommended)       53\n",
              "Diesel, ultra low sulfur (15 ppm, maximum)      20\n",
              "Diesel, low sulfur (500 ppm)                     1\n",
              "Name: fuel_usage, dtype: int64"
            ]
          },
          "metadata": {
            "tags": []
          },
          "execution_count": 79
        }
      ]
    },
    {
      "cell_type": "code",
      "metadata": {
        "id": "-E9mfgxe1hm2",
        "colab": {
          "base_uri": "https://localhost:8080/"
        },
        "outputId": "39d14b72-2232-4aab-d999-67c896bd36ec"
      },
      "source": [
        "df['car_class'].unique()\n",
        "df['car_class'].value_counts()"
      ],
      "execution_count": null,
      "outputs": [
        {
          "output_type": "execute_result",
          "data": {
            "text/plain": [
              "Midsize Cars                   1192\n",
              "Compact Cars                   1053\n",
              "Large Cars                      591\n",
              "Standard Pick-up Trucks 4WD     263\n",
              "Standard Pick-up Trucks 2WD     210\n",
              "midsize car                      48\n",
              "large car                        43\n",
              "small car                        36\n",
              "standard SUV                     33\n",
              "station wagon                    20\n",
              "small SUV                        15\n",
              "Name: car_class, dtype: int64"
            ]
          },
          "metadata": {
            "tags": []
          },
          "execution_count": 80
        }
      ]
    },
    {
      "cell_type": "markdown",
      "metadata": {
        "id": "F6Lv8kTb5Mew"
      },
      "source": [
        "# Data Visualization"
      ]
    },
    {
      "cell_type": "code",
      "metadata": {
        "id": "U2weHj9-5PDz"
      },
      "source": [
        "import seaborn as sns\n",
        "import matplotlib.pyplot as plt\n",
        "import plotly.express as px"
      ],
      "execution_count": null,
      "outputs": []
    },
    {
      "cell_type": "code",
      "metadata": {
        "id": "Mzs7Q6s35RfU",
        "colab": {
          "base_uri": "https://localhost:8080/",
          "height": 514
        },
        "outputId": "887cbfc9-df90-4649-dd17-8107bee98c6c"
      },
      "source": [
        "corr = df.corr()\n",
        "\n",
        "#heatmap\n",
        "corr_map = sns.heatmap(corr, vmin = -1, vmax = 1, center = 0, cmap = sns.diverging_palette(20,220, n = 200), square = True)\n",
        "\n",
        "#number representation\n",
        "print(corr)"
      ],
      "execution_count": null,
      "outputs": [
        {
          "output_type": "stream",
          "text": [
            "                     yr       eng       cyl  ...   fe_comb  fuel_cost  fuel_cost_epa\n",
            "yr             1.000000 -0.007411 -0.019734  ...  0.082230  -0.211372      -0.212377\n",
            "eng           -0.007411  1.000000  0.934333  ... -0.714939   0.743429       0.743429\n",
            "cyl           -0.019734  0.934333  1.000000  ... -0.709027   0.747760       0.747760\n",
            "fe_city        0.089106 -0.662516 -0.659559  ...  0.997071  -0.715652      -0.799608\n",
            "fe_hwy         0.059887 -0.759570 -0.748448  ...  0.992568  -0.753584      -0.826064\n",
            "fe_comb        0.082230 -0.714939 -0.709027  ...  1.000000  -0.736507      -0.830895\n",
            "fuel_cost     -0.211372  0.743429  0.747760  ... -0.736507   1.000000       1.000000\n",
            "fuel_cost_epa -0.212377  0.743429  0.747760  ... -0.830895   1.000000       1.000000\n",
            "\n",
            "[8 rows x 8 columns]\n"
          ],
          "name": "stdout"
        },
        {
          "output_type": "display_data",
          "data": {
            "image/png": "[encoded data removed]",
            "text/plain": [
              "<Figure size 432x288 with 2 Axes>"
            ]
          },
          "metadata": {
            "tags": [],
            "needs_background": "light"
          }
        }
      ]
    },
    {
      "cell_type": "code",
      "metadata": {
        "id": "4l20zmiT5TwE",
        "colab": {
          "base_uri": "https://localhost:8080/",
          "height": 327
        },
        "outputId": "326bdeb7-0063-4147-fee2-4a8329f2621e"
      },
      "source": [
        "# a combination of the above two\n",
        "sns.heatmap(corr, annot= True)\n",
        "plt.show()\n",
        "\n",
        "# Shows that the predictor variables have little correlation on Fuel_Cost_EPA (response variable). Letting us know \n",
        "#   that our predictors will not skew our results with bias (PLEASE CHECK ME ON THIS) "
      ],
      "execution_count": null,
      "outputs": [
        {
          "output_type": "display_data",
          "data": {
            "image/png": "[encoded data removed]",
            "text/plain": [
              "<Figure size 432x288 with 2 Axes>"
            ]
          },
          "metadata": {
            "tags": [],
            "needs_background": "light"
          }
        }
      ]
    },
    {
      "cell_type": "code",
      "metadata": {
        "colab": {
          "base_uri": "https://localhost:8080/",
          "height": 354
        },
        "id": "NTYrz7nV5XKP",
        "outputId": "4feab732-80f3-4efc-81c0-3d1022547f9c"
      },
      "source": [
        "# Create a Box and Whisker Plot\n",
        "boxwh = df.boxplot()"
      ],
      "execution_count": null,
      "outputs": [
        {
          "output_type": "stream",
          "text": [
            "/usr/local/lib/python3.7/dist-packages/numpy/core/_asarray.py:83: VisibleDeprecationWarning:\n",
            "\n",
            "Creating an ndarray from ragged nested sequences (which is a list-or-tuple of lists-or-tuples-or ndarrays with different lengths or shapes) is deprecated. If you meant to do this, you must specify 'dtype=object' when creating the ndarray\n",
            "\n"
          ],
          "name": "stderr"
        },
        {
          "output_type": "display_data",
          "data": {
            "image/png": "[encoded data removed]",
            "text/plain": [
              "<Figure size 432x288 with 1 Axes>"
            ]
          },
          "metadata": {
            "tags": [],
            "needs_background": "light"
          }
        }
      ]
    },
    {
      "cell_type": "code",
      "metadata": {
        "colab": {
          "base_uri": "https://localhost:8080/",
          "height": 265
        },
        "id": "yUnEw--z6Dsi",
        "outputId": "fa798a17-7d8e-47a4-bf12-7e49d6ea5b84"
      },
      "source": [
        "# Simple scatter plot\n",
        "x = df['yr']\n",
        "y = df['fe_comb']\n",
        "simpscatt = plt.scatter(x , y , marker = 'o')"
      ],
      "execution_count": null,
      "outputs": [
        {
          "output_type": "display_data",
          "data": {
            "image/png": "[encoded data removed]",
            "text/plain": [
              "<Figure size 432x288 with 1 Axes>"
            ]
          },
          "metadata": {
            "tags": [],
            "needs_background": "light"
          }
        }
      ]
    },
    {
      "cell_type": "markdown",
      "metadata": {
        "id": "_scigcZdyc0p"
      },
      "source": [
        "# Data Pre-Processing"
      ]
    },
    {
      "cell_type": "code",
      "metadata": {
        "colab": {
          "base_uri": "https://localhost:8080/",
          "height": 204
        },
        "id": "GtE-PQwy0EmI",
        "outputId": "262981e0-0458-4841-825e-c0edc18989af"
      },
      "source": [
        "# Drop and rename columns\n",
        "df = df.drop(columns = ['fuel_cost','fuel_cost_epa'])\n",
        "df.head()"
      ],
      "execution_count": null,
      "outputs": [
        {
          "output_type": "execute_result",
          "data": {
            "text/html": [
              "<div>\n",
              "<style scoped>\n",
              "    .dataframe tbody tr th:only-of-type {\n",
              "        vertical-align: middle;\n",
              "    }\n",
              "\n",
              "    .dataframe tbody tr th {\n",
              "        vertical-align: top;\n",
              "    }\n",
              "\n",
              "    .dataframe thead th {\n",
              "        text-align: right;\n",
              "    }\n",
              "</style>\n",
              "<table border=\"1\" class=\"dataframe\">\n",
              "  <thead>\n",
              "    <tr style=\"text-align: right;\">\n",
              "      <th></th>\n",
              "      <th>yr</th>\n",
              "      <th>mfr</th>\n",
              "      <th>div</th>\n",
              "      <th>line</th>\n",
              "      <th>eng</th>\n",
              "      <th>cyl</th>\n",
              "      <th>fe_city</th>\n",
              "      <th>fe_hwy</th>\n",
              "      <th>fe_comb</th>\n",
              "      <th>fuel_usage</th>\n",
              "      <th>car_class</th>\n",
              "    </tr>\n",
              "  </thead>\n",
              "  <tbody>\n",
              "    <tr>\n",
              "      <th>0</th>\n",
              "      <td>2015</td>\n",
              "      <td>Honda</td>\n",
              "      <td>Acura</td>\n",
              "      <td>ILX</td>\n",
              "      <td>2.0</td>\n",
              "      <td>4.0</td>\n",
              "      <td>24</td>\n",
              "      <td>35</td>\n",
              "      <td>28</td>\n",
              "      <td>Gasoline (Premium Unleaded Recommended)</td>\n",
              "      <td>Compact Cars</td>\n",
              "    </tr>\n",
              "    <tr>\n",
              "      <th>1</th>\n",
              "      <td>2015</td>\n",
              "      <td>Honda</td>\n",
              "      <td>Acura</td>\n",
              "      <td>ILX</td>\n",
              "      <td>2.4</td>\n",
              "      <td>4.0</td>\n",
              "      <td>22</td>\n",
              "      <td>31</td>\n",
              "      <td>25</td>\n",
              "      <td>Gasoline (Premium Unleaded Recommended)</td>\n",
              "      <td>Compact Cars</td>\n",
              "    </tr>\n",
              "    <tr>\n",
              "      <th>2</th>\n",
              "      <td>2015</td>\n",
              "      <td>Honda</td>\n",
              "      <td>Acura</td>\n",
              "      <td>TLX</td>\n",
              "      <td>2.4</td>\n",
              "      <td>4.0</td>\n",
              "      <td>24</td>\n",
              "      <td>35</td>\n",
              "      <td>28</td>\n",
              "      <td>Gasoline (Premium Unleaded Recommended)</td>\n",
              "      <td>Compact Cars</td>\n",
              "    </tr>\n",
              "    <tr>\n",
              "      <th>3</th>\n",
              "      <td>2015</td>\n",
              "      <td>Honda</td>\n",
              "      <td>Acura</td>\n",
              "      <td>TLX</td>\n",
              "      <td>3.5</td>\n",
              "      <td>6.0</td>\n",
              "      <td>21</td>\n",
              "      <td>34</td>\n",
              "      <td>25</td>\n",
              "      <td>Gasoline (Premium Unleaded Recommended)</td>\n",
              "      <td>Compact Cars</td>\n",
              "    </tr>\n",
              "    <tr>\n",
              "      <th>4</th>\n",
              "      <td>2015</td>\n",
              "      <td>Honda</td>\n",
              "      <td>Acura</td>\n",
              "      <td>TLX AWD</td>\n",
              "      <td>3.5</td>\n",
              "      <td>6.0</td>\n",
              "      <td>21</td>\n",
              "      <td>31</td>\n",
              "      <td>25</td>\n",
              "      <td>Gasoline (Premium Unleaded Recommended)</td>\n",
              "      <td>Compact Cars</td>\n",
              "    </tr>\n",
              "  </tbody>\n",
              "</table>\n",
              "</div>"
            ],
            "text/plain": [
              "     yr    mfr  ...                               fuel_usage     car_class\n",
              "0  2015  Honda  ...  Gasoline (Premium Unleaded Recommended)  Compact Cars\n",
              "1  2015  Honda  ...  Gasoline (Premium Unleaded Recommended)  Compact Cars\n",
              "2  2015  Honda  ...  Gasoline (Premium Unleaded Recommended)  Compact Cars\n",
              "3  2015  Honda  ...  Gasoline (Premium Unleaded Recommended)  Compact Cars\n",
              "4  2015  Honda  ...  Gasoline (Premium Unleaded Recommended)  Compact Cars\n",
              "\n",
              "[5 rows x 11 columns]"
            ]
          },
          "metadata": {
            "tags": []
          },
          "execution_count": 86
        }
      ]
    },
    {
      "cell_type": "code",
      "metadata": {
        "id": "dlw_vGyXxrak",
        "colab": {
          "base_uri": "https://localhost:8080/"
        },
        "outputId": "1bd86a90-90e1-4e84-9934-6903737e0123"
      },
      "source": [
        "# TO DO REMOVE THIS AFTER UPDATING IN THE DATA ITSELF\n",
        "\n",
        "# Intitial data cleaning\n",
        "# Replace null values\n",
        "\n",
        "df['mfr'].fillna('No manufacturer', inplace = True)\n",
        "df['div'].fillna('No division', inplace = True)\n",
        "df['eng'].fillna(0, inplace=True)\n",
        "df['cyl'].fillna(0, inplace=True)\n",
        "\n",
        "df.isnull().sum()"
      ],
      "execution_count": null,
      "outputs": [
        {
          "output_type": "execute_result",
          "data": {
            "text/plain": [
              "yr            0\n",
              "mfr           0\n",
              "div           0\n",
              "line          0\n",
              "eng           0\n",
              "cyl           0\n",
              "fe_city       0\n",
              "fe_hwy        0\n",
              "fe_comb       0\n",
              "fuel_usage    0\n",
              "car_class     0\n",
              "dtype: int64"
            ]
          },
          "metadata": {
            "tags": []
          },
          "execution_count": 87
        }
      ]
    },
    {
      "cell_type": "code",
      "metadata": {
        "colab": {
          "base_uri": "https://localhost:8080/"
        },
        "id": "_Ky5r_511z1R",
        "outputId": "5fa398c3-d5a7-4c23-ea96-cf4828473f10"
      },
      "source": [
        "# Combine some class categories\n",
        "\n",
        "df['car_class'] = df['car_class'].replace(['large car'], 'Large Cars')\n",
        "df['car_class'] = df['car_class'].replace(['standard SUV'], 'Large Cars')\n",
        "df['car_class'] = df['car_class'].replace(['midsize car'], 'Midsize Cars')\n",
        "df['car_class'] = df['car_class'].replace(['station wagon'], 'Midsize Cars')\n",
        "df['car_class'] = df['car_class'].replace(['small SUV'], 'Midsize Cars')\n",
        "df['car_class'] = df['car_class'].replace(['small car'], 'Small Cars')\n",
        "df['car_class'] = df['car_class'].replace(['Compact Cars'], 'Small Cars')\n",
        "df['car_class'] = df['car_class'].replace(['Standard Pick-up Trucks 2WD'], 'Trucks')\n",
        "df['car_class'] = df['car_class'].replace(['Standard Pick-up Trucks 4WD'], 'Trucks')\n",
        "\n",
        "df['car_class'].unique()\n",
        "df['car_class'].value_counts()"
      ],
      "execution_count": null,
      "outputs": [
        {
          "output_type": "execute_result",
          "data": {
            "text/plain": [
              "Midsize Cars    1275\n",
              "Small Cars      1089\n",
              "Large Cars       667\n",
              "Trucks           473\n",
              "Name: car_class, dtype: int64"
            ]
          },
          "metadata": {
            "tags": []
          },
          "execution_count": 88
        }
      ]
    },
    {
      "cell_type": "code",
      "metadata": {
        "colab": {
          "base_uri": "https://localhost:8080/"
        },
        "id": "IfPLRpP8umxb",
        "outputId": "5aaf5663-92fd-4d1c-a44b-6c505db3472c"
      },
      "source": [
        "df2_plots = df\n",
        "\n",
        "# Combining Large, Midsize, & Small Cars into one value of Cars\n",
        "df2_plots['car_class'] = df2_plots['car_class'].replace(['Large Cars'], 'Cars')\n",
        "df2_plots['car_class'] = df2_plots['car_class'].replace(['Midsize Cars'], 'Cars')\n",
        "df2_plots['car_class'] = df2_plots['car_class'].replace(['Small Cars'], 'Cars')\n",
        "\n",
        "# Combining Large, Midsize, & Small Cars into one value of Cars\n",
        "df2_plots['fuel_usage'] = df2_plots['fuel_usage'].replace(['Gasoline (Regular Unleaded Recommended)'], 'Gas')\n",
        "df2_plots['fuel_usage'] = df2_plots['fuel_usage'].replace(['Gasoline (Premium Unleaded Recommended)'], 'Gas')\n",
        "df2_plots['fuel_usage'] = df2_plots['fuel_usage'].replace(['Gasoline (Premium Unleaded Required)'], 'Gas')\n",
        "df2_plots['fuel_usage'] = df2_plots['fuel_usage'].replace(['Gasoline (Mid Grade Unleaded Recommended)'], 'Gas')\n",
        "\n",
        "# Could not find a way to drop a row with the column value = Diesel, so I added them into Gas. Named it df3 so we didnt change df2\n",
        "df3_plots = df2_plots\n",
        "df3_plots['fuel_usage'] = df2_plots['fuel_usage'].replace(['Diesel, ultra low sulfur (15 ppm, maximum)'], 'Gas')\n",
        "df3_plots['fuel_usage'] = df2_plots['fuel_usage'].replace(['Diesel, low sulfur (500 ppm)'], 'Gas')\n",
        "\n",
        "df2_plots['car_class'].unique()\n",
        "df2_plots['car_class'].value_counts()\n",
        "df3_plots['fuel_usage'].unique()\n",
        "df3_plots['fuel_usage'].value_counts()\n"
      ],
      "execution_count": null,
      "outputs": [
        {
          "output_type": "execute_result",
          "data": {
            "text/plain": [
              "Gas            3309\n",
              "Electricity     195\n",
              "Name: fuel_usage, dtype: int64"
            ]
          },
          "metadata": {
            "tags": []
          },
          "execution_count": 89
        }
      ]
    },
    {
      "cell_type": "markdown",
      "metadata": {
        "id": "SZES55AHbNbr"
      },
      "source": [
        "Splitting Data Electricity, Gas(Cars & Trucks) for Box & Whisker Chart\n"
      ]
    },
    {
      "cell_type": "code",
      "metadata": {
        "colab": {
          "base_uri": "https://localhost:8080/",
          "height": 204
        },
        "id": "EkNJldwAhmOM",
        "outputId": "c602a91c-617a-4b2c-afb7-260566fc3181"
      },
      "source": [
        "df3_plots.head()"
      ],
      "execution_count": null,
      "outputs": [
        {
          "output_type": "execute_result",
          "data": {
            "text/html": [
              "<div>\n",
              "<style scoped>\n",
              "    .dataframe tbody tr th:only-of-type {\n",
              "        vertical-align: middle;\n",
              "    }\n",
              "\n",
              "    .dataframe tbody tr th {\n",
              "        vertical-align: top;\n",
              "    }\n",
              "\n",
              "    .dataframe thead th {\n",
              "        text-align: right;\n",
              "    }\n",
              "</style>\n",
              "<table border=\"1\" class=\"dataframe\">\n",
              "  <thead>\n",
              "    <tr style=\"text-align: right;\">\n",
              "      <th></th>\n",
              "      <th>yr</th>\n",
              "      <th>mfr</th>\n",
              "      <th>div</th>\n",
              "      <th>line</th>\n",
              "      <th>eng</th>\n",
              "      <th>cyl</th>\n",
              "      <th>fe_city</th>\n",
              "      <th>fe_hwy</th>\n",
              "      <th>fe_comb</th>\n",
              "      <th>fuel_usage</th>\n",
              "      <th>car_class</th>\n",
              "    </tr>\n",
              "  </thead>\n",
              "  <tbody>\n",
              "    <tr>\n",
              "      <th>0</th>\n",
              "      <td>2015</td>\n",
              "      <td>Honda</td>\n",
              "      <td>Acura</td>\n",
              "      <td>ILX</td>\n",
              "      <td>2.0</td>\n",
              "      <td>4.0</td>\n",
              "      <td>24</td>\n",
              "      <td>35</td>\n",
              "      <td>28</td>\n",
              "      <td>Gas</td>\n",
              "      <td>Cars</td>\n",
              "    </tr>\n",
              "    <tr>\n",
              "      <th>1</th>\n",
              "      <td>2015</td>\n",
              "      <td>Honda</td>\n",
              "      <td>Acura</td>\n",
              "      <td>ILX</td>\n",
              "      <td>2.4</td>\n",
              "      <td>4.0</td>\n",
              "      <td>22</td>\n",
              "      <td>31</td>\n",
              "      <td>25</td>\n",
              "      <td>Gas</td>\n",
              "      <td>Cars</td>\n",
              "    </tr>\n",
              "    <tr>\n",
              "      <th>2</th>\n",
              "      <td>2015</td>\n",
              "      <td>Honda</td>\n",
              "      <td>Acura</td>\n",
              "      <td>TLX</td>\n",
              "      <td>2.4</td>\n",
              "      <td>4.0</td>\n",
              "      <td>24</td>\n",
              "      <td>35</td>\n",
              "      <td>28</td>\n",
              "      <td>Gas</td>\n",
              "      <td>Cars</td>\n",
              "    </tr>\n",
              "    <tr>\n",
              "      <th>3</th>\n",
              "      <td>2015</td>\n",
              "      <td>Honda</td>\n",
              "      <td>Acura</td>\n",
              "      <td>TLX</td>\n",
              "      <td>3.5</td>\n",
              "      <td>6.0</td>\n",
              "      <td>21</td>\n",
              "      <td>34</td>\n",
              "      <td>25</td>\n",
              "      <td>Gas</td>\n",
              "      <td>Cars</td>\n",
              "    </tr>\n",
              "    <tr>\n",
              "      <th>4</th>\n",
              "      <td>2015</td>\n",
              "      <td>Honda</td>\n",
              "      <td>Acura</td>\n",
              "      <td>TLX AWD</td>\n",
              "      <td>3.5</td>\n",
              "      <td>6.0</td>\n",
              "      <td>21</td>\n",
              "      <td>31</td>\n",
              "      <td>25</td>\n",
              "      <td>Gas</td>\n",
              "      <td>Cars</td>\n",
              "    </tr>\n",
              "  </tbody>\n",
              "</table>\n",
              "</div>"
            ],
            "text/plain": [
              "     yr    mfr    div     line  ...  fe_hwy  fe_comb  fuel_usage  car_class\n",
              "0  2015  Honda  Acura      ILX  ...      35       28         Gas       Cars\n",
              "1  2015  Honda  Acura      ILX  ...      31       25         Gas       Cars\n",
              "2  2015  Honda  Acura      TLX  ...      35       28         Gas       Cars\n",
              "3  2015  Honda  Acura      TLX  ...      34       25         Gas       Cars\n",
              "4  2015  Honda  Acura  TLX AWD  ...      31       25         Gas       Cars\n",
              "\n",
              "[5 rows x 11 columns]"
            ]
          },
          "metadata": {
            "tags": []
          },
          "execution_count": 90
        }
      ]
    },
    {
      "cell_type": "code",
      "metadata": {
        "colab": {
          "base_uri": "https://localhost:8080/",
          "height": 204
        },
        "id": "oYwYP48MbVzd",
        "outputId": "62028f9a-90df-4bbf-86d9-b145f664219b"
      },
      "source": [
        "# Splitting the fuel_usage into EV and GAS (using df3_plots)\n",
        "# EV dataframe\n",
        "EVdf = df3_plots[ (df3_plots.fuel_usage == 'Electricity')]\n",
        "\n",
        "EVdf.head()\n",
        "#EVdf.value_counts()\n"
      ],
      "execution_count": null,
      "outputs": [
        {
          "output_type": "execute_result",
          "data": {
            "text/html": [
              "<div>\n",
              "<style scoped>\n",
              "    .dataframe tbody tr th:only-of-type {\n",
              "        vertical-align: middle;\n",
              "    }\n",
              "\n",
              "    .dataframe tbody tr th {\n",
              "        vertical-align: top;\n",
              "    }\n",
              "\n",
              "    .dataframe thead th {\n",
              "        text-align: right;\n",
              "    }\n",
              "</style>\n",
              "<table border=\"1\" class=\"dataframe\">\n",
              "  <thead>\n",
              "    <tr style=\"text-align: right;\">\n",
              "      <th></th>\n",
              "      <th>yr</th>\n",
              "      <th>mfr</th>\n",
              "      <th>div</th>\n",
              "      <th>line</th>\n",
              "      <th>eng</th>\n",
              "      <th>cyl</th>\n",
              "      <th>fe_city</th>\n",
              "      <th>fe_hwy</th>\n",
              "      <th>fe_comb</th>\n",
              "      <th>fuel_usage</th>\n",
              "      <th>car_class</th>\n",
              "    </tr>\n",
              "  </thead>\n",
              "  <tbody>\n",
              "    <tr>\n",
              "      <th>3309</th>\n",
              "      <td>2021</td>\n",
              "      <td>AUDI</td>\n",
              "      <td>AUDI</td>\n",
              "      <td>AUDI e-tron</td>\n",
              "      <td>0.0</td>\n",
              "      <td>0.0</td>\n",
              "      <td>78</td>\n",
              "      <td>77</td>\n",
              "      <td>78</td>\n",
              "      <td>Electricity</td>\n",
              "      <td>Cars</td>\n",
              "    </tr>\n",
              "    <tr>\n",
              "      <th>3310</th>\n",
              "      <td>2021</td>\n",
              "      <td>AUDI</td>\n",
              "      <td>AUDI</td>\n",
              "      <td>AUDI e-tron Sportback</td>\n",
              "      <td>0.0</td>\n",
              "      <td>0.0</td>\n",
              "      <td>76</td>\n",
              "      <td>78</td>\n",
              "      <td>77</td>\n",
              "      <td>Electricity</td>\n",
              "      <td>Cars</td>\n",
              "    </tr>\n",
              "    <tr>\n",
              "      <th>3311</th>\n",
              "      <td>2021</td>\n",
              "      <td>BMW</td>\n",
              "      <td>BMW</td>\n",
              "      <td>BMW i3s</td>\n",
              "      <td>0.0</td>\n",
              "      <td>0.0</td>\n",
              "      <td>124</td>\n",
              "      <td>102</td>\n",
              "      <td>113</td>\n",
              "      <td>Electricity</td>\n",
              "      <td>Cars</td>\n",
              "    </tr>\n",
              "    <tr>\n",
              "      <th>3312</th>\n",
              "      <td>2021</td>\n",
              "      <td>CHEVROLET</td>\n",
              "      <td>CHEVROLET</td>\n",
              "      <td>CHEVROLET Bolt EV</td>\n",
              "      <td>0.0</td>\n",
              "      <td>0.0</td>\n",
              "      <td>127</td>\n",
              "      <td>108</td>\n",
              "      <td>118</td>\n",
              "      <td>Electricity</td>\n",
              "      <td>Cars</td>\n",
              "    </tr>\n",
              "    <tr>\n",
              "      <th>3313</th>\n",
              "      <td>2021</td>\n",
              "      <td>FORD</td>\n",
              "      <td>FORD</td>\n",
              "      <td>FORD Mustang Mach-E</td>\n",
              "      <td>0.0</td>\n",
              "      <td>0.0</td>\n",
              "      <td>105</td>\n",
              "      <td>93</td>\n",
              "      <td>100</td>\n",
              "      <td>Electricity</td>\n",
              "      <td>Cars</td>\n",
              "    </tr>\n",
              "  </tbody>\n",
              "</table>\n",
              "</div>"
            ],
            "text/plain": [
              "        yr        mfr        div  ... fe_comb   fuel_usage  car_class\n",
              "3309  2021      AUDI        AUDI  ...      78  Electricity       Cars\n",
              "3310  2021       AUDI       AUDI  ...      77  Electricity       Cars\n",
              "3311  2021        BMW        BMW  ...     113  Electricity       Cars\n",
              "3312  2021  CHEVROLET  CHEVROLET  ...     118  Electricity       Cars\n",
              "3313  2021       FORD       FORD  ...     100  Electricity       Cars\n",
              "\n",
              "[5 rows x 11 columns]"
            ]
          },
          "metadata": {
            "tags": []
          },
          "execution_count": 91
        }
      ]
    },
    {
      "cell_type": "code",
      "metadata": {
        "id": "qr8lCaOxh2QF",
        "colab": {
          "base_uri": "https://localhost:8080/",
          "height": 204
        },
        "outputId": "679d3bd4-43dd-46fd-8043-68f2550892ac"
      },
      "source": [
        "# GAS dataframe\n",
        "Gasdf = df3_plots[ (df3_plots.fuel_usage == 'Gas')]\n",
        "Gasdf.head()\n",
        "#Gasdf.value_counts()\n",
        "\n"
      ],
      "execution_count": null,
      "outputs": [
        {
          "output_type": "execute_result",
          "data": {
            "text/html": [
              "<div>\n",
              "<style scoped>\n",
              "    .dataframe tbody tr th:only-of-type {\n",
              "        vertical-align: middle;\n",
              "    }\n",
              "\n",
              "    .dataframe tbody tr th {\n",
              "        vertical-align: top;\n",
              "    }\n",
              "\n",
              "    .dataframe thead th {\n",
              "        text-align: right;\n",
              "    }\n",
              "</style>\n",
              "<table border=\"1\" class=\"dataframe\">\n",
              "  <thead>\n",
              "    <tr style=\"text-align: right;\">\n",
              "      <th></th>\n",
              "      <th>yr</th>\n",
              "      <th>mfr</th>\n",
              "      <th>div</th>\n",
              "      <th>line</th>\n",
              "      <th>eng</th>\n",
              "      <th>cyl</th>\n",
              "      <th>fe_city</th>\n",
              "      <th>fe_hwy</th>\n",
              "      <th>fe_comb</th>\n",
              "      <th>fuel_usage</th>\n",
              "      <th>car_class</th>\n",
              "    </tr>\n",
              "  </thead>\n",
              "  <tbody>\n",
              "    <tr>\n",
              "      <th>0</th>\n",
              "      <td>2015</td>\n",
              "      <td>Honda</td>\n",
              "      <td>Acura</td>\n",
              "      <td>ILX</td>\n",
              "      <td>2.0</td>\n",
              "      <td>4.0</td>\n",
              "      <td>24</td>\n",
              "      <td>35</td>\n",
              "      <td>28</td>\n",
              "      <td>Gas</td>\n",
              "      <td>Cars</td>\n",
              "    </tr>\n",
              "    <tr>\n",
              "      <th>1</th>\n",
              "      <td>2015</td>\n",
              "      <td>Honda</td>\n",
              "      <td>Acura</td>\n",
              "      <td>ILX</td>\n",
              "      <td>2.4</td>\n",
              "      <td>4.0</td>\n",
              "      <td>22</td>\n",
              "      <td>31</td>\n",
              "      <td>25</td>\n",
              "      <td>Gas</td>\n",
              "      <td>Cars</td>\n",
              "    </tr>\n",
              "    <tr>\n",
              "      <th>2</th>\n",
              "      <td>2015</td>\n",
              "      <td>Honda</td>\n",
              "      <td>Acura</td>\n",
              "      <td>TLX</td>\n",
              "      <td>2.4</td>\n",
              "      <td>4.0</td>\n",
              "      <td>24</td>\n",
              "      <td>35</td>\n",
              "      <td>28</td>\n",
              "      <td>Gas</td>\n",
              "      <td>Cars</td>\n",
              "    </tr>\n",
              "    <tr>\n",
              "      <th>3</th>\n",
              "      <td>2015</td>\n",
              "      <td>Honda</td>\n",
              "      <td>Acura</td>\n",
              "      <td>TLX</td>\n",
              "      <td>3.5</td>\n",
              "      <td>6.0</td>\n",
              "      <td>21</td>\n",
              "      <td>34</td>\n",
              "      <td>25</td>\n",
              "      <td>Gas</td>\n",
              "      <td>Cars</td>\n",
              "    </tr>\n",
              "    <tr>\n",
              "      <th>4</th>\n",
              "      <td>2015</td>\n",
              "      <td>Honda</td>\n",
              "      <td>Acura</td>\n",
              "      <td>TLX AWD</td>\n",
              "      <td>3.5</td>\n",
              "      <td>6.0</td>\n",
              "      <td>21</td>\n",
              "      <td>31</td>\n",
              "      <td>25</td>\n",
              "      <td>Gas</td>\n",
              "      <td>Cars</td>\n",
              "    </tr>\n",
              "  </tbody>\n",
              "</table>\n",
              "</div>"
            ],
            "text/plain": [
              "     yr    mfr    div     line  ...  fe_hwy  fe_comb  fuel_usage  car_class\n",
              "0  2015  Honda  Acura      ILX  ...      35       28         Gas       Cars\n",
              "1  2015  Honda  Acura      ILX  ...      31       25         Gas       Cars\n",
              "2  2015  Honda  Acura      TLX  ...      35       28         Gas       Cars\n",
              "3  2015  Honda  Acura      TLX  ...      34       25         Gas       Cars\n",
              "4  2015  Honda  Acura  TLX AWD  ...      31       25         Gas       Cars\n",
              "\n",
              "[5 rows x 11 columns]"
            ]
          },
          "metadata": {
            "tags": []
          },
          "execution_count": 92
        }
      ]
    },
    {
      "cell_type": "code",
      "metadata": {
        "id": "EjVXRlwwiqcn",
        "colab": {
          "base_uri": "https://localhost:8080/"
        },
        "outputId": "e0f8bf0f-82f0-427c-b04e-3a99a6044481"
      },
      "source": [
        "# Split Gas dataframe into Cars & Trucks\n",
        "\n",
        "Car_Gasdf = Gasdf[Gasdf.car_class == 'Cars']\n",
        "\n",
        "#Car_Gasdf = Gasdf[ (Gasdf.class == 'Cars')]\n",
        "Truck_Gasdf = Gasdf[Gasdf.car_class == 'Trucks']\n",
        "\n",
        "Car_Gasdf.head()\n",
        "Car_Gasdf.value_counts()\n",
        "Truck_Gasdf.head()\n",
        "Truck_Gasdf.value_counts()"
      ],
      "execution_count": null,
      "outputs": [
        {
          "output_type": "execute_result",
          "data": {
            "text/plain": [
              "yr    mfr                 div        line                          eng  cyl  fe_city  fe_hwy  fe_comb  fuel_usage  car_class\n",
              "2015  FCA US LLC          RAM        1500 4X2                      3.6  6.0  17       25      20       Gas         Trucks       2\n",
              "      Nissan              NISSAN     TITAN 2WD                     5.6  8.0  13       18      15       Gas         Trucks       2\n",
              "      General Motors      Chevrolet  K15 SILVERADO 4WD             5.3  8.0  16       22      18       Gas         Trucks       2\n",
              "2018  General Motors      Chevrolet  K15 SILVERADO 4WD             5.3  8.0  16       22      18       Gas         Trucks       2\n",
              "2015  General Motors      GMC        C15 SIERRA 2WD                5.3  8.0  16       23      19       Gas         Trucks       2\n",
              "                                                                                                                               ..\n",
              "2019  Toyota              TOYOTA     TUNDRA 4WD FFV                5.7  8.0  13       17      15       Gas         Trucks       1\n",
              "2020  FCA US LLC          Jeep       Gladiator Pickup 4x4          3.6  6.0  16       23      19       Gas         Trucks       1\n",
              "                                                                             17       22      19       Gas         Trucks       1\n",
              "                          RAM        1500 4X2                      3.6  6.0  20       25      22       Gas         Trucks       1\n",
              "2019  Ford Motor Company  Ford       F150 2WD FFV BASE PAYLOAD LT  3.3  6.0  19       24      21       Gas         Trucks       1\n",
              "Length: 444, dtype: int64"
            ]
          },
          "metadata": {
            "tags": []
          },
          "execution_count": 93
        }
      ]
    },
    {
      "cell_type": "markdown",
      "metadata": {
        "id": "YNNoGLl1johz"
      },
      "source": [
        "Box & Whisker Chart by year"
      ]
    },
    {
      "cell_type": "code",
      "metadata": {
        "id": "3ygpADGojY42",
        "colab": {
          "base_uri": "https://localhost:8080/",
          "height": 385
        },
        "outputId": "4f6adabb-11b7-43e6-9189-de7466f73507"
      },
      "source": [
        "# Create a box & whisker chart of All Electricity Cars for their fuel economy (fe_comb) by year\n",
        "\n",
        "\"\"\"EVbox = EVdf.boxplot(column = 'fe_comb', by= 'yr', grid=True, fontsize=12)\n",
        "EVbox.set_title('EV Fuel Economy')\n",
        "EVbox.suptitle('')\"\"\"\n",
        "\n",
        "EVdf.boxplot(column = 'fe_comb', by= 'yr', grid=True, fontsize=12)\n",
        "plt.title('EV Fuel Economy')\n",
        "plt.suptitle('')\n",
        "plt.ylabel('Fuel Economy')\n",
        "plt.show()\n",
        "#Tried adding a title but couldnt get rid of the one they provided below"
      ],
      "execution_count": null,
      "outputs": [
        {
          "output_type": "stream",
          "text": [
            "/usr/local/lib/python3.7/dist-packages/numpy/core/_asarray.py:83: VisibleDeprecationWarning:\n",
            "\n",
            "Creating an ndarray from ragged nested sequences (which is a list-or-tuple of lists-or-tuples-or ndarrays with different lengths or shapes) is deprecated. If you meant to do this, you must specify 'dtype=object' when creating the ndarray\n",
            "\n"
          ],
          "name": "stderr"
        },
        {
          "output_type": "display_data",
          "data": {
            "image/png": "[encoded data removed]",
            "text/plain": [
              "<Figure size 432x288 with 1 Axes>"
            ]
          },
          "metadata": {
            "tags": [],
            "needs_background": "light"
          }
        }
      ]
    },
    {
      "cell_type": "code",
      "metadata": {
        "id": "HQ454ZxvkUsk",
        "colab": {
          "base_uri": "https://localhost:8080/",
          "height": 392
        },
        "outputId": "f8549d97-1273-469c-b903-81c71cfc1da2"
      },
      "source": [
        "# Create a box & whisker chart of All Gas Vehicles for their fuel economy (fe_comb) by year\n",
        "\n",
        "Gasbox = Gasdf.boxplot(column = 'fe_comb', by= 'yr', grid=True, fontsize=12)\n"
      ],
      "execution_count": null,
      "outputs": [
        {
          "output_type": "stream",
          "text": [
            "/usr/local/lib/python3.7/dist-packages/numpy/core/_asarray.py:83: VisibleDeprecationWarning:\n",
            "\n",
            "Creating an ndarray from ragged nested sequences (which is a list-or-tuple of lists-or-tuples-or ndarrays with different lengths or shapes) is deprecated. If you meant to do this, you must specify 'dtype=object' when creating the ndarray\n",
            "\n"
          ],
          "name": "stderr"
        },
        {
          "output_type": "display_data",
          "data": {
            "image/png": "[encoded data removed]",
            "text/plain": [
              "<Figure size 432x288 with 1 Axes>"
            ]
          },
          "metadata": {
            "tags": [],
            "needs_background": "light"
          }
        }
      ]
    },
    {
      "cell_type": "code",
      "metadata": {
        "colab": {
          "base_uri": "https://localhost:8080/",
          "height": 385
        },
        "id": "RZ5mQeSwmC4H",
        "outputId": "dbc2c33e-ac1b-46f5-b606-9b3f922bd2c4"
      },
      "source": [
        "# Create a box & whisker chart of Gasoline Cars for their fuel economy (fe_comb) by year\n",
        "\n",
        "#Car_box = Car_Gasdf.boxplot(column = 'fe_comb', by= 'yr', grid=True, fontsize=12)\n",
        "\n",
        "\n",
        "Car_Gasdf.boxplot(column = 'fe_comb', by= 'yr', grid=True, fontsize=12)\n",
        "plt.title('Gas Car Fuel Economy')\n",
        "plt.suptitle('')\n",
        "plt.ylabel('Fuel Economy')\n",
        "plt.show()\n",
        "#Tried adding a title but couldnt get rid of the one they provided below"
      ],
      "execution_count": null,
      "outputs": [
        {
          "output_type": "stream",
          "text": [
            "/usr/local/lib/python3.7/dist-packages/numpy/core/_asarray.py:83: VisibleDeprecationWarning:\n",
            "\n",
            "Creating an ndarray from ragged nested sequences (which is a list-or-tuple of lists-or-tuples-or ndarrays with different lengths or shapes) is deprecated. If you meant to do this, you must specify 'dtype=object' when creating the ndarray\n",
            "\n"
          ],
          "name": "stderr"
        },
        {
          "output_type": "display_data",
          "data": {
            "image/png": "[encoded data removed]",
            "text/plain": [
              "<Figure size 432x288 with 1 Axes>"
            ]
          },
          "metadata": {
            "tags": [],
            "needs_background": "light"
          }
        }
      ]
    },
    {
      "cell_type": "code",
      "metadata": {
        "colab": {
          "base_uri": "https://localhost:8080/",
          "height": 385
        },
        "id": "P2qQ-FmpPbmC",
        "outputId": "c905d5a7-c76b-4fee-e496-1d407b5a4aff"
      },
      "source": [
        "# Create a box & whisker chart of Gasoline Cars for their fuel economy (fe_comb) by year\n",
        "\n",
        "#Truck_box = Truck_Gasdf.boxplot(column = 'fe_comb', by= 'yr', grid=True, fontsize=12)\n",
        "\n",
        "Truck_Gasdf.boxplot(column = 'fe_comb', by= 'yr', grid=True, fontsize=12)\n",
        "plt.title('Gas Truck Fuel Economy')\n",
        "plt.suptitle('')\n",
        "plt.ylabel('Fuel Economy')\n",
        "plt.show()\n",
        "#Tried adding a title but couldnt get rid of the one they provided below"
      ],
      "execution_count": null,
      "outputs": [
        {
          "output_type": "stream",
          "text": [
            "/usr/local/lib/python3.7/dist-packages/numpy/core/_asarray.py:83: VisibleDeprecationWarning:\n",
            "\n",
            "Creating an ndarray from ragged nested sequences (which is a list-or-tuple of lists-or-tuples-or ndarrays with different lengths or shapes) is deprecated. If you meant to do this, you must specify 'dtype=object' when creating the ndarray\n",
            "\n"
          ],
          "name": "stderr"
        },
        {
          "output_type": "display_data",
          "data": {
            "image/png": "[encoded data removed]",
            "text/plain": [
              "<Figure size 432x288 with 1 Axes>"
            ]
          },
          "metadata": {
            "tags": [],
            "needs_background": "light"
          }
        }
      ]
    },
    {
      "cell_type": "code",
      "metadata": {
        "id": "0LXao9ijl_ec",
        "colab": {
          "base_uri": "https://localhost:8080/",
          "height": 393
        },
        "outputId": "e52eedca-55c4-41c2-821b-e19d26eb3724"
      },
      "source": [
        "# Create a box & whisker chart of All Gas Cars for their fuel economy (fe_comb) by year\n",
        "\n",
        "GasCarbox = Gasdf.boxplot(column = 'fe_comb', by= 'car_class', grid=True, fontsize=12)"
      ],
      "execution_count": null,
      "outputs": [
        {
          "output_type": "stream",
          "text": [
            "/usr/local/lib/python3.7/dist-packages/numpy/core/_asarray.py:83: VisibleDeprecationWarning:\n",
            "\n",
            "Creating an ndarray from ragged nested sequences (which is a list-or-tuple of lists-or-tuples-or ndarrays with different lengths or shapes) is deprecated. If you meant to do this, you must specify 'dtype=object' when creating the ndarray\n",
            "\n"
          ],
          "name": "stderr"
        },
        {
          "output_type": "display_data",
          "data": {
            "image/png": "[encoded data removed]",
            "text/plain": [
              "<Figure size 432x288 with 1 Axes>"
            ]
          },
          "metadata": {
            "tags": [],
            "needs_background": "light"
          }
        }
      ]
    },
    {
      "cell_type": "code",
      "metadata": {
        "id": "m-Wtp7hovYQd",
        "colab": {
          "base_uri": "https://localhost:8080/",
          "height": 386
        },
        "outputId": "a3e01dad-163a-4fde-b4b7-a156b0705377"
      },
      "source": [
        "# FE comb to Y and Year to X and have Charts that focus on Trucks, EV, Cars\n",
        "\n",
        "# Create a Box and Whisker Plot for combined fuel economy\n",
        "#boxwh = df2_plots.boxplot(column = 'fe_comb', by='fuel_usage',)\n",
        "\n",
        "df2_plots.boxplot(column = 'fe_comb', by= 'fuel_usage', grid=True, fontsize=12)\n",
        "plt.title('Total Fuel Economy')\n",
        "plt.suptitle('')\n",
        "plt.ylabel('Fuel Economy')\n",
        "plt.show()"
      ],
      "execution_count": null,
      "outputs": [
        {
          "output_type": "stream",
          "text": [
            "/usr/local/lib/python3.7/dist-packages/numpy/core/_asarray.py:83: VisibleDeprecationWarning:\n",
            "\n",
            "Creating an ndarray from ragged nested sequences (which is a list-or-tuple of lists-or-tuples-or ndarrays with different lengths or shapes) is deprecated. If you meant to do this, you must specify 'dtype=object' when creating the ndarray\n",
            "\n"
          ],
          "name": "stderr"
        },
        {
          "output_type": "display_data",
          "data": {
            "image/png": "[encoded data removed]",
            "text/plain": [
              "<Figure size 432x288 with 1 Axes>"
            ]
          },
          "metadata": {
            "tags": [],
            "needs_background": "light"
          }
        }
      ]
    },
    {
      "cell_type": "code",
      "metadata": {
        "id": "MBCfM6R7gGEX"
      },
      "source": [
        "# Simple scatter plot\n",
        "\n",
        "scat_truck_df = df.car_class ==\"Trucks\"\n",
        "\n",
        "\n",
        "x = df['yr']\n",
        "y = df['fe_comb']\n",
        "colors = {'Trucks':'red', 'Midsize Cars':'green', 'Small Cars':'blue', 'Large Cars':'yellow'}\n",
        "#simpscatt = plt.scatter(x , y , marker = 'o', c=df['car_class'].map(colors))"
      ],
      "execution_count": null,
      "outputs": []
    },
    {
      "cell_type": "code",
      "metadata": {
        "id": "PXDIT4b7pN9m",
        "colab": {
          "base_uri": "https://localhost:8080/",
          "height": 265
        },
        "outputId": "15d527bb-3b19-4afb-93d9-e93a7ccb3440"
      },
      "source": [
        "###  Trying to breakdown scatter plots into Fuel_usage ; then class (for gas) ; group by year\n",
        "\n",
        "scat_truck_df = df[df.car_class == \"Trucks\"]\n",
        "\n",
        "\n",
        "x = scat_truck_df['yr']\n",
        "y = scat_truck_df['fe_comb']\n",
        "colors = {'Trucks':'red', 'Midsize Cars':'green', 'Small Cars':'blue', 'Large Cars':'yellow'}\n",
        "simpscatt = plt.scatter(x , y , marker = 'o')\n",
        "\n",
        "#scat_truck_df.head(10)\n",
        "#df.head(10)"
      ],
      "execution_count": null,
      "outputs": [
        {
          "output_type": "display_data",
          "data": {
            "image/png": "[encoded data removed]",
            "text/plain": [
              "<Figure size 432x288 with 1 Axes>"
            ]
          },
          "metadata": {
            "tags": [],
            "needs_background": "light"
          }
        }
      ]
    },
    {
      "cell_type": "code",
      "metadata": {
        "id": "-bUk7fUys6qL",
        "colab": {
          "base_uri": "https://localhost:8080/",
          "height": 142
        },
        "outputId": "501f27c7-ce8a-41b2-8808-5e66617c6c3b"
      },
      "source": [
        "# data tables / histograms\n",
        "df4 = df2_plots[['car_class','fe_comb']].groupby('car_class').mean()\n",
        "df4"
      ],
      "execution_count": null,
      "outputs": [
        {
          "output_type": "execute_result",
          "data": {
            "text/html": [
              "<div>\n",
              "<style scoped>\n",
              "    .dataframe tbody tr th:only-of-type {\n",
              "        vertical-align: middle;\n",
              "    }\n",
              "\n",
              "    .dataframe tbody tr th {\n",
              "        vertical-align: top;\n",
              "    }\n",
              "\n",
              "    .dataframe thead th {\n",
              "        text-align: right;\n",
              "    }\n",
              "</style>\n",
              "<table border=\"1\" class=\"dataframe\">\n",
              "  <thead>\n",
              "    <tr style=\"text-align: right;\">\n",
              "      <th></th>\n",
              "      <th>fe_comb</th>\n",
              "    </tr>\n",
              "    <tr>\n",
              "      <th>car_class</th>\n",
              "      <th></th>\n",
              "    </tr>\n",
              "  </thead>\n",
              "  <tbody>\n",
              "    <tr>\n",
              "      <th>Cars</th>\n",
              "      <td>31.326295</td>\n",
              "    </tr>\n",
              "    <tr>\n",
              "      <th>Trucks</th>\n",
              "      <td>18.539112</td>\n",
              "    </tr>\n",
              "  </tbody>\n",
              "</table>\n",
              "</div>"
            ],
            "text/plain": [
              "             fe_comb\n",
              "car_class           \n",
              "Cars       31.326295\n",
              "Trucks     18.539112"
            ]
          },
          "metadata": {
            "tags": []
          },
          "execution_count": 102
        }
      ]
    },
    {
      "cell_type": "code",
      "metadata": {
        "colab": {
          "base_uri": "https://localhost:8080/",
          "height": 334
        },
        "id": "TXpEjtJNNer4",
        "outputId": "3d6751e4-1129-47e2-fa59-5fc1cc379d5d"
      },
      "source": [
        "df4['fe_comb'].plot.bar()\n",
        "plt.title(\"Fuel Economy by Class\")\n",
        "plt.xlabel(\"Vehicle Class\")\n",
        "plt.ylabel(\"Average Fuel Economy\")"
      ],
      "execution_count": null,
      "outputs": [
        {
          "output_type": "execute_result",
          "data": {
            "text/plain": [
              "Text(0, 0.5, 'Average Fuel Economy')"
            ]
          },
          "metadata": {
            "tags": []
          },
          "execution_count": 103
        },
        {
          "output_type": "display_data",
          "data": {
            "image/png": "[encoded data removed]",
            "text/plain": [
              "<Figure size 432x288 with 1 Axes>"
            ]
          },
          "metadata": {
            "tags": [],
            "needs_background": "light"
          }
        }
      ]
    },
    {
      "cell_type": "code",
      "metadata": {
        "colab": {
          "base_uri": "https://localhost:8080/",
          "height": 142
        },
        "id": "v-uGbPeWJrmy",
        "outputId": "fc651bb5-3efa-441f-8c55-6f2000c765e3"
      },
      "source": [
        "# data tables / histograms\n",
        "df5 = df2_plots[['fuel_usage','fe_comb']].groupby('fuel_usage').mean()\n",
        "df5"
      ],
      "execution_count": null,
      "outputs": [
        {
          "output_type": "execute_result",
          "data": {
            "text/html": [
              "<div>\n",
              "<style scoped>\n",
              "    .dataframe tbody tr th:only-of-type {\n",
              "        vertical-align: middle;\n",
              "    }\n",
              "\n",
              "    .dataframe tbody tr th {\n",
              "        vertical-align: top;\n",
              "    }\n",
              "\n",
              "    .dataframe thead th {\n",
              "        text-align: right;\n",
              "    }\n",
              "</style>\n",
              "<table border=\"1\" class=\"dataframe\">\n",
              "  <thead>\n",
              "    <tr style=\"text-align: right;\">\n",
              "      <th></th>\n",
              "      <th>fe_comb</th>\n",
              "    </tr>\n",
              "    <tr>\n",
              "      <th>fuel_usage</th>\n",
              "      <th></th>\n",
              "    </tr>\n",
              "  </thead>\n",
              "  <tbody>\n",
              "    <tr>\n",
              "      <th>Electricity</th>\n",
              "      <td>106.225641</td>\n",
              "    </tr>\n",
              "    <tr>\n",
              "      <th>Gas</th>\n",
              "      <td>25.084618</td>\n",
              "    </tr>\n",
              "  </tbody>\n",
              "</table>\n",
              "</div>"
            ],
            "text/plain": [
              "                fe_comb\n",
              "fuel_usage             \n",
              "Electricity  106.225641\n",
              "Gas           25.084618"
            ]
          },
          "metadata": {
            "tags": []
          },
          "execution_count": 104
        }
      ]
    },
    {
      "cell_type": "code",
      "metadata": {
        "colab": {
          "base_uri": "https://localhost:8080/",
          "height": 352
        },
        "id": "J13RWFrMNnvc",
        "outputId": "f5fde2d7-449d-438d-e347-7660d8a81cb5"
      },
      "source": [
        "df5['fe_comb'].plot.bar()\n",
        "plt.title(\"Fuel Economy by Fuel Type\")\n",
        "plt.xlabel(\"Fuel Type\")\n",
        "plt.ylabel(\"Average Fuel Economy\")"
      ],
      "execution_count": null,
      "outputs": [
        {
          "output_type": "execute_result",
          "data": {
            "text/plain": [
              "Text(0, 0.5, 'Average Fuel Economy')"
            ]
          },
          "metadata": {
            "tags": []
          },
          "execution_count": 105
        },
        {
          "output_type": "display_data",
          "data": {
            "image/png": "[encoded data removed]",
            "text/plain": [
              "<Figure size 432x288 with 1 Axes>"
            ]
          },
          "metadata": {
            "tags": [],
            "needs_background": "light"
          }
        }
      ]
    },
    {
      "cell_type": "code",
      "metadata": {
        "id": "CNcFoiaS103W",
        "colab": {
          "base_uri": "https://localhost:8080/",
          "height": 745
        },
        "outputId": "02add289-18c4-4e5f-844c-b193be0e299d"
      },
      "source": [
        "#TODO\n",
        "# One-Hot-Encode class, other variables?\n",
        "\n",
        "from sklearn.preprocessing import OneHotEncoder\n",
        "one_hot_df = pd.get_dummies(df['car_class'], prefix='car_class', prefix_sep='_')\n",
        "one_hot_df.head()\n",
        "encoded_df = df.join(one_hot_df)\n",
        "mfg_one_hot = pd.get_dummies(df['div'],prefix='div', prefix_sep='_')\n",
        "encoded_df = encoded_df.join(mfg_one_hot)\n",
        "fuel_one_hot = pd.get_dummies(df['fuel_usage'],prefix='fuel_usage', prefix_sep='_')\n",
        "encoded_df = encoded_df.join(fuel_one_hot)\n",
        "\n",
        "e_df = encoded_df.replace({2015: 0, 2016:1, 2017:2, 2018:3, 2019:4, 2020:5, 2021:6})\n",
        "# encoded_df\n",
        "e_df"
      ],
      "execution_count": null,
      "outputs": [
        {
          "output_type": "execute_result",
          "data": {
            "text/html": [
              "<div>\n",
              "<style scoped>\n",
              "    .dataframe tbody tr th:only-of-type {\n",
              "        vertical-align: middle;\n",
              "    }\n",
              "\n",
              "    .dataframe tbody tr th {\n",
              "        vertical-align: top;\n",
              "    }\n",
              "\n",
              "    .dataframe thead th {\n",
              "        text-align: right;\n",
              "    }\n",
              "</style>\n",
              "<table border=\"1\" class=\"dataframe\">\n",
              "  <thead>\n",
              "    <tr style=\"text-align: right;\">\n",
              "      <th></th>\n",
              "      <th>yr</th>\n",
              "      <th>mfr</th>\n",
              "      <th>div</th>\n",
              "      <th>line</th>\n",
              "      <th>eng</th>\n",
              "      <th>cyl</th>\n",
              "      <th>fe_city</th>\n",
              "      <th>fe_hwy</th>\n",
              "      <th>fe_comb</th>\n",
              "      <th>fuel_usage</th>\n",
              "      <th>car_class</th>\n",
              "      <th>car_class_Cars</th>\n",
              "      <th>car_class_Trucks</th>\n",
              "      <th>div_ALFA ROMEO</th>\n",
              "      <th>div_AUDI</th>\n",
              "      <th>div_Acura</th>\n",
              "      <th>div_Audi</th>\n",
              "      <th>div_BMW</th>\n",
              "      <th>div_Buick</th>\n",
              "      <th>div_CHEVROLET</th>\n",
              "      <th>div_Cadillac</th>\n",
              "      <th>div_Chevrolet</th>\n",
              "      <th>div_Chrysler</th>\n",
              "      <th>div_Dodge</th>\n",
              "      <th>div_FIAT</th>\n",
              "      <th>div_FORD</th>\n",
              "      <th>div_Ford</th>\n",
              "      <th>div_GENESIS</th>\n",
              "      <th>div_GMC</th>\n",
              "      <th>div_HONDA</th>\n",
              "      <th>div_HYUNDAI</th>\n",
              "      <th>div_HYUNDAI MOTOR COMPANY</th>\n",
              "      <th>div_Honda</th>\n",
              "      <th>div_INFINITI</th>\n",
              "      <th>div_JAGUAR</th>\n",
              "      <th>div_Jaguar</th>\n",
              "      <th>div_Jeep</th>\n",
              "      <th>div_KANDI</th>\n",
              "      <th>div_KIA</th>\n",
              "      <th>div_KIA MOTORS CORPORATION</th>\n",
              "      <th>div_LEXUS</th>\n",
              "      <th>div_Lincoln</th>\n",
              "      <th>div_MAZDA</th>\n",
              "      <th>div_MERCEDES-BENZ</th>\n",
              "      <th>div_MINI</th>\n",
              "      <th>div_MITSUBISHI</th>\n",
              "      <th>div_Mercedes-Benz</th>\n",
              "      <th>div_Mini</th>\n",
              "      <th>div_Mitsubishi Motors Corporation</th>\n",
              "      <th>div_NISSAN</th>\n",
              "      <th>div_POLESTAR</th>\n",
              "      <th>div_RAM</th>\n",
              "      <th>div_SCION</th>\n",
              "      <th>div_SMART</th>\n",
              "      <th>div_SUBARU TECNICA INTERNATIONAL</th>\n",
              "      <th>div_Subaru</th>\n",
              "      <th>div_TESLA</th>\n",
              "      <th>div_TOYOTA</th>\n",
              "      <th>div_VOLKSWAGEN</th>\n",
              "      <th>div_VOLVO</th>\n",
              "      <th>div_Volkswagen</th>\n",
              "      <th>div_Volvo Cars of North America, LLC</th>\n",
              "      <th>fuel_usage_Electricity</th>\n",
              "      <th>fuel_usage_Gas</th>\n",
              "    </tr>\n",
              "  </thead>\n",
              "  <tbody>\n",
              "    <tr>\n",
              "      <th>0</th>\n",
              "      <td>0</td>\n",
              "      <td>Honda</td>\n",
              "      <td>Acura</td>\n",
              "      <td>ILX</td>\n",
              "      <td>2.0</td>\n",
              "      <td>4.0</td>\n",
              "      <td>24</td>\n",
              "      <td>35</td>\n",
              "      <td>28</td>\n",
              "      <td>Gas</td>\n",
              "      <td>Cars</td>\n",
              "      <td>1</td>\n",
              "      <td>0</td>\n",
              "      <td>0</td>\n",
              "      <td>0</td>\n",
              "      <td>1</td>\n",
              "      <td>0</td>\n",
              "      <td>0</td>\n",
              "      <td>0</td>\n",
              "      <td>0</td>\n",
              "      <td>0</td>\n",
              "      <td>0</td>\n",
              "      <td>0</td>\n",
              "      <td>0</td>\n",
              "      <td>0</td>\n",
              "      <td>0</td>\n",
              "      <td>0</td>\n",
              "      <td>0</td>\n",
              "      <td>0</td>\n",
              "      <td>0</td>\n",
              "      <td>0</td>\n",
              "      <td>0</td>\n",
              "      <td>0</td>\n",
              "      <td>0</td>\n",
              "      <td>0</td>\n",
              "      <td>0</td>\n",
              "      <td>0</td>\n",
              "      <td>0</td>\n",
              "      <td>0</td>\n",
              "      <td>0</td>\n",
              "      <td>0</td>\n",
              "      <td>0</td>\n",
              "      <td>0</td>\n",
              "      <td>0</td>\n",
              "      <td>0</td>\n",
              "      <td>0</td>\n",
              "      <td>0</td>\n",
              "      <td>0</td>\n",
              "      <td>0</td>\n",
              "      <td>0</td>\n",
              "      <td>0</td>\n",
              "      <td>0</td>\n",
              "      <td>0</td>\n",
              "      <td>0</td>\n",
              "      <td>0</td>\n",
              "      <td>0</td>\n",
              "      <td>0</td>\n",
              "      <td>0</td>\n",
              "      <td>0</td>\n",
              "      <td>0</td>\n",
              "      <td>0</td>\n",
              "      <td>0</td>\n",
              "      <td>0</td>\n",
              "      <td>1</td>\n",
              "    </tr>\n",
              "    <tr>\n",
              "      <th>1</th>\n",
              "      <td>0</td>\n",
              "      <td>Honda</td>\n",
              "      <td>Acura</td>\n",
              "      <td>ILX</td>\n",
              "      <td>2.4</td>\n",
              "      <td>4.0</td>\n",
              "      <td>22</td>\n",
              "      <td>31</td>\n",
              "      <td>25</td>\n",
              "      <td>Gas</td>\n",
              "      <td>Cars</td>\n",
              "      <td>1</td>\n",
              "      <td>0</td>\n",
              "      <td>0</td>\n",
              "      <td>0</td>\n",
              "      <td>1</td>\n",
              "      <td>0</td>\n",
              "      <td>0</td>\n",
              "      <td>0</td>\n",
              "      <td>0</td>\n",
              "      <td>0</td>\n",
              "      <td>0</td>\n",
              "      <td>0</td>\n",
              "      <td>0</td>\n",
              "      <td>0</td>\n",
              "      <td>0</td>\n",
              "      <td>0</td>\n",
              "      <td>0</td>\n",
              "      <td>0</td>\n",
              "      <td>0</td>\n",
              "      <td>0</td>\n",
              "      <td>0</td>\n",
              "      <td>0</td>\n",
              "      <td>0</td>\n",
              "      <td>0</td>\n",
              "      <td>0</td>\n",
              "      <td>0</td>\n",
              "      <td>0</td>\n",
              "      <td>0</td>\n",
              "      <td>0</td>\n",
              "      <td>0</td>\n",
              "      <td>0</td>\n",
              "      <td>0</td>\n",
              "      <td>0</td>\n",
              "      <td>0</td>\n",
              "      <td>0</td>\n",
              "      <td>0</td>\n",
              "      <td>0</td>\n",
              "      <td>0</td>\n",
              "      <td>0</td>\n",
              "      <td>0</td>\n",
              "      <td>0</td>\n",
              "      <td>0</td>\n",
              "      <td>0</td>\n",
              "      <td>0</td>\n",
              "      <td>0</td>\n",
              "      <td>0</td>\n",
              "      <td>0</td>\n",
              "      <td>0</td>\n",
              "      <td>0</td>\n",
              "      <td>0</td>\n",
              "      <td>0</td>\n",
              "      <td>0</td>\n",
              "      <td>1</td>\n",
              "    </tr>\n",
              "    <tr>\n",
              "      <th>2</th>\n",
              "      <td>0</td>\n",
              "      <td>Honda</td>\n",
              "      <td>Acura</td>\n",
              "      <td>TLX</td>\n",
              "      <td>2.4</td>\n",
              "      <td>4.0</td>\n",
              "      <td>24</td>\n",
              "      <td>35</td>\n",
              "      <td>28</td>\n",
              "      <td>Gas</td>\n",
              "      <td>Cars</td>\n",
              "      <td>1</td>\n",
              "      <td>0</td>\n",
              "      <td>0</td>\n",
              "      <td>0</td>\n",
              "      <td>1</td>\n",
              "      <td>0</td>\n",
              "      <td>0</td>\n",
              "      <td>0</td>\n",
              "      <td>0</td>\n",
              "      <td>0</td>\n",
              "      <td>0</td>\n",
              "      <td>0</td>\n",
              "      <td>0</td>\n",
              "      <td>0</td>\n",
              "      <td>0</td>\n",
              "      <td>0</td>\n",
              "      <td>0</td>\n",
              "      <td>0</td>\n",
              "      <td>0</td>\n",
              "      <td>0</td>\n",
              "      <td>0</td>\n",
              "      <td>0</td>\n",
              "      <td>0</td>\n",
              "      <td>0</td>\n",
              "      <td>0</td>\n",
              "      <td>0</td>\n",
              "      <td>0</td>\n",
              "      <td>0</td>\n",
              "      <td>0</td>\n",
              "      <td>0</td>\n",
              "      <td>0</td>\n",
              "      <td>0</td>\n",
              "      <td>0</td>\n",
              "      <td>0</td>\n",
              "      <td>0</td>\n",
              "      <td>0</td>\n",
              "      <td>0</td>\n",
              "      <td>0</td>\n",
              "      <td>0</td>\n",
              "      <td>0</td>\n",
              "      <td>0</td>\n",
              "      <td>0</td>\n",
              "      <td>0</td>\n",
              "      <td>0</td>\n",
              "      <td>0</td>\n",
              "      <td>0</td>\n",
              "      <td>0</td>\n",
              "      <td>0</td>\n",
              "      <td>0</td>\n",
              "      <td>0</td>\n",
              "      <td>0</td>\n",
              "      <td>0</td>\n",
              "      <td>1</td>\n",
              "    </tr>\n",
              "    <tr>\n",
              "      <th>3</th>\n",
              "      <td>0</td>\n",
              "      <td>Honda</td>\n",
              "      <td>Acura</td>\n",
              "      <td>TLX</td>\n",
              "      <td>3.5</td>\n",
              "      <td>6.0</td>\n",
              "      <td>21</td>\n",
              "      <td>34</td>\n",
              "      <td>25</td>\n",
              "      <td>Gas</td>\n",
              "      <td>Cars</td>\n",
              "      <td>1</td>\n",
              "      <td>0</td>\n",
              "      <td>0</td>\n",
              "      <td>0</td>\n",
              "      <td>1</td>\n",
              "      <td>0</td>\n",
              "      <td>0</td>\n",
              "      <td>0</td>\n",
              "      <td>0</td>\n",
              "      <td>0</td>\n",
              "      <td>0</td>\n",
              "      <td>0</td>\n",
              "      <td>0</td>\n",
              "      <td>0</td>\n",
              "      <td>0</td>\n",
              "      <td>0</td>\n",
              "      <td>0</td>\n",
              "      <td>0</td>\n",
              "      <td>0</td>\n",
              "      <td>0</td>\n",
              "      <td>0</td>\n",
              "      <td>0</td>\n",
              "      <td>0</td>\n",
              "      <td>0</td>\n",
              "      <td>0</td>\n",
              "      <td>0</td>\n",
              "      <td>0</td>\n",
              "      <td>0</td>\n",
              "      <td>0</td>\n",
              "      <td>0</td>\n",
              "      <td>0</td>\n",
              "      <td>0</td>\n",
              "      <td>0</td>\n",
              "      <td>0</td>\n",
              "      <td>0</td>\n",
              "      <td>0</td>\n",
              "      <td>0</td>\n",
              "      <td>0</td>\n",
              "      <td>0</td>\n",
              "      <td>0</td>\n",
              "      <td>0</td>\n",
              "      <td>0</td>\n",
              "      <td>0</td>\n",
              "      <td>0</td>\n",
              "      <td>0</td>\n",
              "      <td>0</td>\n",
              "      <td>0</td>\n",
              "      <td>0</td>\n",
              "      <td>0</td>\n",
              "      <td>0</td>\n",
              "      <td>0</td>\n",
              "      <td>0</td>\n",
              "      <td>1</td>\n",
              "    </tr>\n",
              "    <tr>\n",
              "      <th>4</th>\n",
              "      <td>0</td>\n",
              "      <td>Honda</td>\n",
              "      <td>Acura</td>\n",
              "      <td>TLX AWD</td>\n",
              "      <td>3.5</td>\n",
              "      <td>6.0</td>\n",
              "      <td>21</td>\n",
              "      <td>31</td>\n",
              "      <td>25</td>\n",
              "      <td>Gas</td>\n",
              "      <td>Cars</td>\n",
              "      <td>1</td>\n",
              "      <td>0</td>\n",
              "      <td>0</td>\n",
              "      <td>0</td>\n",
              "      <td>1</td>\n",
              "      <td>0</td>\n",
              "      <td>0</td>\n",
              "      <td>0</td>\n",
              "      <td>0</td>\n",
              "      <td>0</td>\n",
              "      <td>0</td>\n",
              "      <td>0</td>\n",
              "      <td>0</td>\n",
              "      <td>0</td>\n",
              "      <td>0</td>\n",
              "      <td>0</td>\n",
              "      <td>0</td>\n",
              "      <td>0</td>\n",
              "      <td>0</td>\n",
              "      <td>0</td>\n",
              "      <td>0</td>\n",
              "      <td>0</td>\n",
              "      <td>0</td>\n",
              "      <td>0</td>\n",
              "      <td>0</td>\n",
              "      <td>0</td>\n",
              "      <td>0</td>\n",
              "      <td>0</td>\n",
              "      <td>0</td>\n",
              "      <td>0</td>\n",
              "      <td>0</td>\n",
              "      <td>0</td>\n",
              "      <td>0</td>\n",
              "      <td>0</td>\n",
              "      <td>0</td>\n",
              "      <td>0</td>\n",
              "      <td>0</td>\n",
              "      <td>0</td>\n",
              "      <td>0</td>\n",
              "      <td>0</td>\n",
              "      <td>0</td>\n",
              "      <td>0</td>\n",
              "      <td>0</td>\n",
              "      <td>0</td>\n",
              "      <td>0</td>\n",
              "      <td>0</td>\n",
              "      <td>0</td>\n",
              "      <td>0</td>\n",
              "      <td>0</td>\n",
              "      <td>0</td>\n",
              "      <td>0</td>\n",
              "      <td>0</td>\n",
              "      <td>1</td>\n",
              "    </tr>\n",
              "    <tr>\n",
              "      <th>...</th>\n",
              "      <td>...</td>\n",
              "      <td>...</td>\n",
              "      <td>...</td>\n",
              "      <td>...</td>\n",
              "      <td>...</td>\n",
              "      <td>...</td>\n",
              "      <td>...</td>\n",
              "      <td>...</td>\n",
              "      <td>...</td>\n",
              "      <td>...</td>\n",
              "      <td>...</td>\n",
              "      <td>...</td>\n",
              "      <td>...</td>\n",
              "      <td>...</td>\n",
              "      <td>...</td>\n",
              "      <td>...</td>\n",
              "      <td>...</td>\n",
              "      <td>...</td>\n",
              "      <td>...</td>\n",
              "      <td>...</td>\n",
              "      <td>...</td>\n",
              "      <td>...</td>\n",
              "      <td>...</td>\n",
              "      <td>...</td>\n",
              "      <td>...</td>\n",
              "      <td>...</td>\n",
              "      <td>...</td>\n",
              "      <td>...</td>\n",
              "      <td>...</td>\n",
              "      <td>...</td>\n",
              "      <td>...</td>\n",
              "      <td>...</td>\n",
              "      <td>...</td>\n",
              "      <td>...</td>\n",
              "      <td>...</td>\n",
              "      <td>...</td>\n",
              "      <td>...</td>\n",
              "      <td>...</td>\n",
              "      <td>...</td>\n",
              "      <td>...</td>\n",
              "      <td>...</td>\n",
              "      <td>...</td>\n",
              "      <td>...</td>\n",
              "      <td>...</td>\n",
              "      <td>...</td>\n",
              "      <td>...</td>\n",
              "      <td>...</td>\n",
              "      <td>...</td>\n",
              "      <td>...</td>\n",
              "      <td>...</td>\n",
              "      <td>...</td>\n",
              "      <td>...</td>\n",
              "      <td>...</td>\n",
              "      <td>...</td>\n",
              "      <td>...</td>\n",
              "      <td>...</td>\n",
              "      <td>...</td>\n",
              "      <td>...</td>\n",
              "      <td>...</td>\n",
              "      <td>...</td>\n",
              "      <td>...</td>\n",
              "      <td>...</td>\n",
              "      <td>...</td>\n",
              "      <td>...</td>\n",
              "    </tr>\n",
              "    <tr>\n",
              "      <th>3499</th>\n",
              "      <td>0</td>\n",
              "      <td>TESLA</td>\n",
              "      <td>TESLA</td>\n",
              "      <td>TESLA Model S</td>\n",
              "      <td>0.0</td>\n",
              "      <td>0.0</td>\n",
              "      <td>88</td>\n",
              "      <td>90</td>\n",
              "      <td>89</td>\n",
              "      <td>Electricity</td>\n",
              "      <td>Cars</td>\n",
              "      <td>1</td>\n",
              "      <td>0</td>\n",
              "      <td>0</td>\n",
              "      <td>0</td>\n",
              "      <td>0</td>\n",
              "      <td>0</td>\n",
              "      <td>0</td>\n",
              "      <td>0</td>\n",
              "      <td>0</td>\n",
              "      <td>0</td>\n",
              "      <td>0</td>\n",
              "      <td>0</td>\n",
              "      <td>0</td>\n",
              "      <td>0</td>\n",
              "      <td>0</td>\n",
              "      <td>0</td>\n",
              "      <td>0</td>\n",
              "      <td>0</td>\n",
              "      <td>0</td>\n",
              "      <td>0</td>\n",
              "      <td>0</td>\n",
              "      <td>0</td>\n",
              "      <td>0</td>\n",
              "      <td>0</td>\n",
              "      <td>0</td>\n",
              "      <td>0</td>\n",
              "      <td>0</td>\n",
              "      <td>0</td>\n",
              "      <td>0</td>\n",
              "      <td>0</td>\n",
              "      <td>0</td>\n",
              "      <td>0</td>\n",
              "      <td>0</td>\n",
              "      <td>0</td>\n",
              "      <td>0</td>\n",
              "      <td>0</td>\n",
              "      <td>0</td>\n",
              "      <td>0</td>\n",
              "      <td>0</td>\n",
              "      <td>0</td>\n",
              "      <td>0</td>\n",
              "      <td>0</td>\n",
              "      <td>0</td>\n",
              "      <td>0</td>\n",
              "      <td>0</td>\n",
              "      <td>1</td>\n",
              "      <td>0</td>\n",
              "      <td>0</td>\n",
              "      <td>0</td>\n",
              "      <td>0</td>\n",
              "      <td>0</td>\n",
              "      <td>1</td>\n",
              "      <td>0</td>\n",
              "    </tr>\n",
              "    <tr>\n",
              "      <th>3500</th>\n",
              "      <td>0</td>\n",
              "      <td>TESLA</td>\n",
              "      <td>TESLA</td>\n",
              "      <td>TESLA Model S</td>\n",
              "      <td>0.0</td>\n",
              "      <td>0.0</td>\n",
              "      <td>94</td>\n",
              "      <td>97</td>\n",
              "      <td>95</td>\n",
              "      <td>Electricity</td>\n",
              "      <td>Cars</td>\n",
              "      <td>1</td>\n",
              "      <td>0</td>\n",
              "      <td>0</td>\n",
              "      <td>0</td>\n",
              "      <td>0</td>\n",
              "      <td>0</td>\n",
              "      <td>0</td>\n",
              "      <td>0</td>\n",
              "      <td>0</td>\n",
              "      <td>0</td>\n",
              "      <td>0</td>\n",
              "      <td>0</td>\n",
              "      <td>0</td>\n",
              "      <td>0</td>\n",
              "      <td>0</td>\n",
              "      <td>0</td>\n",
              "      <td>0</td>\n",
              "      <td>0</td>\n",
              "      <td>0</td>\n",
              "      <td>0</td>\n",
              "      <td>0</td>\n",
              "      <td>0</td>\n",
              "      <td>0</td>\n",
              "      <td>0</td>\n",
              "      <td>0</td>\n",
              "      <td>0</td>\n",
              "      <td>0</td>\n",
              "      <td>0</td>\n",
              "      <td>0</td>\n",
              "      <td>0</td>\n",
              "      <td>0</td>\n",
              "      <td>0</td>\n",
              "      <td>0</td>\n",
              "      <td>0</td>\n",
              "      <td>0</td>\n",
              "      <td>0</td>\n",
              "      <td>0</td>\n",
              "      <td>0</td>\n",
              "      <td>0</td>\n",
              "      <td>0</td>\n",
              "      <td>0</td>\n",
              "      <td>0</td>\n",
              "      <td>0</td>\n",
              "      <td>0</td>\n",
              "      <td>0</td>\n",
              "      <td>1</td>\n",
              "      <td>0</td>\n",
              "      <td>0</td>\n",
              "      <td>0</td>\n",
              "      <td>0</td>\n",
              "      <td>0</td>\n",
              "      <td>1</td>\n",
              "      <td>0</td>\n",
              "    </tr>\n",
              "    <tr>\n",
              "      <th>3501</th>\n",
              "      <td>0</td>\n",
              "      <td>TESLA</td>\n",
              "      <td>TESLA</td>\n",
              "      <td>TESLA Model S AWD</td>\n",
              "      <td>0.0</td>\n",
              "      <td>0.0</td>\n",
              "      <td>89</td>\n",
              "      <td>98</td>\n",
              "      <td>93</td>\n",
              "      <td>Electricity</td>\n",
              "      <td>Cars</td>\n",
              "      <td>1</td>\n",
              "      <td>0</td>\n",
              "      <td>0</td>\n",
              "      <td>0</td>\n",
              "      <td>0</td>\n",
              "      <td>0</td>\n",
              "      <td>0</td>\n",
              "      <td>0</td>\n",
              "      <td>0</td>\n",
              "      <td>0</td>\n",
              "      <td>0</td>\n",
              "      <td>0</td>\n",
              "      <td>0</td>\n",
              "      <td>0</td>\n",
              "      <td>0</td>\n",
              "      <td>0</td>\n",
              "      <td>0</td>\n",
              "      <td>0</td>\n",
              "      <td>0</td>\n",
              "      <td>0</td>\n",
              "      <td>0</td>\n",
              "      <td>0</td>\n",
              "      <td>0</td>\n",
              "      <td>0</td>\n",
              "      <td>0</td>\n",
              "      <td>0</td>\n",
              "      <td>0</td>\n",
              "      <td>0</td>\n",
              "      <td>0</td>\n",
              "      <td>0</td>\n",
              "      <td>0</td>\n",
              "      <td>0</td>\n",
              "      <td>0</td>\n",
              "      <td>0</td>\n",
              "      <td>0</td>\n",
              "      <td>0</td>\n",
              "      <td>0</td>\n",
              "      <td>0</td>\n",
              "      <td>0</td>\n",
              "      <td>0</td>\n",
              "      <td>0</td>\n",
              "      <td>0</td>\n",
              "      <td>0</td>\n",
              "      <td>0</td>\n",
              "      <td>0</td>\n",
              "      <td>1</td>\n",
              "      <td>0</td>\n",
              "      <td>0</td>\n",
              "      <td>0</td>\n",
              "      <td>0</td>\n",
              "      <td>0</td>\n",
              "      <td>1</td>\n",
              "      <td>0</td>\n",
              "    </tr>\n",
              "    <tr>\n",
              "      <th>3502</th>\n",
              "      <td>0</td>\n",
              "      <td>TESLA</td>\n",
              "      <td>TESLA</td>\n",
              "      <td>TESLA Model S AWD</td>\n",
              "      <td>0.0</td>\n",
              "      <td>0.0</td>\n",
              "      <td>101</td>\n",
              "      <td>102</td>\n",
              "      <td>101</td>\n",
              "      <td>Electricity</td>\n",
              "      <td>Cars</td>\n",
              "      <td>1</td>\n",
              "      <td>0</td>\n",
              "      <td>0</td>\n",
              "      <td>0</td>\n",
              "      <td>0</td>\n",
              "      <td>0</td>\n",
              "      <td>0</td>\n",
              "      <td>0</td>\n",
              "      <td>0</td>\n",
              "      <td>0</td>\n",
              "      <td>0</td>\n",
              "      <td>0</td>\n",
              "      <td>0</td>\n",
              "      <td>0</td>\n",
              "      <td>0</td>\n",
              "      <td>0</td>\n",
              "      <td>0</td>\n",
              "      <td>0</td>\n",
              "      <td>0</td>\n",
              "      <td>0</td>\n",
              "      <td>0</td>\n",
              "      <td>0</td>\n",
              "      <td>0</td>\n",
              "      <td>0</td>\n",
              "      <td>0</td>\n",
              "      <td>0</td>\n",
              "      <td>0</td>\n",
              "      <td>0</td>\n",
              "      <td>0</td>\n",
              "      <td>0</td>\n",
              "      <td>0</td>\n",
              "      <td>0</td>\n",
              "      <td>0</td>\n",
              "      <td>0</td>\n",
              "      <td>0</td>\n",
              "      <td>0</td>\n",
              "      <td>0</td>\n",
              "      <td>0</td>\n",
              "      <td>0</td>\n",
              "      <td>0</td>\n",
              "      <td>0</td>\n",
              "      <td>0</td>\n",
              "      <td>0</td>\n",
              "      <td>0</td>\n",
              "      <td>0</td>\n",
              "      <td>1</td>\n",
              "      <td>0</td>\n",
              "      <td>0</td>\n",
              "      <td>0</td>\n",
              "      <td>0</td>\n",
              "      <td>0</td>\n",
              "      <td>1</td>\n",
              "      <td>0</td>\n",
              "    </tr>\n",
              "    <tr>\n",
              "      <th>3503</th>\n",
              "      <td>0</td>\n",
              "      <td>TESLA</td>\n",
              "      <td>TESLA</td>\n",
              "      <td>TESLA Model S AWD</td>\n",
              "      <td>0.0</td>\n",
              "      <td>0.0</td>\n",
              "      <td>95</td>\n",
              "      <td>106</td>\n",
              "      <td>100</td>\n",
              "      <td>Electricity</td>\n",
              "      <td>Cars</td>\n",
              "      <td>1</td>\n",
              "      <td>0</td>\n",
              "      <td>0</td>\n",
              "      <td>0</td>\n",
              "      <td>0</td>\n",
              "      <td>0</td>\n",
              "      <td>0</td>\n",
              "      <td>0</td>\n",
              "      <td>0</td>\n",
              "      <td>0</td>\n",
              "      <td>0</td>\n",
              "      <td>0</td>\n",
              "      <td>0</td>\n",
              "      <td>0</td>\n",
              "      <td>0</td>\n",
              "      <td>0</td>\n",
              "      <td>0</td>\n",
              "      <td>0</td>\n",
              "      <td>0</td>\n",
              "      <td>0</td>\n",
              "      <td>0</td>\n",
              "      <td>0</td>\n",
              "      <td>0</td>\n",
              "      <td>0</td>\n",
              "      <td>0</td>\n",
              "      <td>0</td>\n",
              "      <td>0</td>\n",
              "      <td>0</td>\n",
              "      <td>0</td>\n",
              "      <td>0</td>\n",
              "      <td>0</td>\n",
              "      <td>0</td>\n",
              "      <td>0</td>\n",
              "      <td>0</td>\n",
              "      <td>0</td>\n",
              "      <td>0</td>\n",
              "      <td>0</td>\n",
              "      <td>0</td>\n",
              "      <td>0</td>\n",
              "      <td>0</td>\n",
              "      <td>0</td>\n",
              "      <td>0</td>\n",
              "      <td>0</td>\n",
              "      <td>0</td>\n",
              "      <td>0</td>\n",
              "      <td>1</td>\n",
              "      <td>0</td>\n",
              "      <td>0</td>\n",
              "      <td>0</td>\n",
              "      <td>0</td>\n",
              "      <td>0</td>\n",
              "      <td>1</td>\n",
              "      <td>0</td>\n",
              "    </tr>\n",
              "  </tbody>\n",
              "</table>\n",
              "<p>3504 rows × 64 columns</p>\n",
              "</div>"
            ],
            "text/plain": [
              "      yr    mfr  ... fuel_usage_Electricity fuel_usage_Gas\n",
              "0      0  Honda  ...                      0              1\n",
              "1      0  Honda  ...                      0              1\n",
              "2      0  Honda  ...                      0              1\n",
              "3      0  Honda  ...                      0              1\n",
              "4      0  Honda  ...                      0              1\n",
              "...   ..    ...  ...                    ...            ...\n",
              "3499   0  TESLA  ...                      1              0\n",
              "3500   0  TESLA  ...                      1              0\n",
              "3501   0  TESLA  ...                      1              0\n",
              "3502   0  TESLA  ...                      1              0\n",
              "3503   0  TESLA  ...                      1              0\n",
              "\n",
              "[3504 rows x 64 columns]"
            ]
          },
          "metadata": {
            "tags": []
          },
          "execution_count": 106
        }
      ]
    },
    {
      "cell_type": "code",
      "metadata": {
        "id": "usHN4d3UWn2H"
      },
      "source": [
        "#TODO\n",
        "# One-Hot-Encode class, other variables?\n",
        "\n",
        "from sklearn.preprocessing import OneHotEncoder\n",
        "one_hot_df = pd.get_dummies(Gasdf['car_class'], prefix='car_class', prefix_sep='_')\n",
        "one_hot_df.head()\n",
        "gas_encoded_df = Gasdf.join(one_hot_df)\n",
        "mfg_one_hot = pd.get_dummies(Gasdf['div'],prefix='div', prefix_sep='_')\n",
        "gas_encoded_df = gas_encoded_df.join(mfg_one_hot)\n",
        "fuel_one_hot = pd.get_dummies(Gasdf['fuel_usage'],prefix='fuel_usage', prefix_sep='_')\n",
        "gas_encoded_df = gas_encoded_df.join(fuel_one_hot)\n",
        "\n",
        "gas_e_df = gas_encoded_df.replace({2015: 0, 2016:1, 2017:2, 2018:3, 2019:4, 2020:5, 2021:6})\n",
        "\n",
        "\n",
        "\n",
        "#print(gas_encoded_df)"
      ],
      "execution_count": null,
      "outputs": []
    },
    {
      "cell_type": "code",
      "metadata": {
        "id": "kyKmNZmgxzOg",
        "colab": {
          "base_uri": "https://localhost:8080/",
          "height": 292
        },
        "outputId": "3931e583-0afa-4cc5-bab8-21810a37efea"
      },
      "source": [
        "# Set y and x\n",
        "y = e_df['fe_comb']\n",
        "X = e_df.drop(columns = ['fe_comb', 'fuel_usage', 'fe_city', 'fe_hwy', 'mfr', 'div', 'line', 'car_class'])\n",
        "X.head()\n",
        "y_gas = gas_e_df['fe_comb']\n",
        "X_gas = gas_e_df.drop(columns = ['fe_comb', 'fuel_usage', 'fe_city', 'fe_hwy', 'mfr', 'div', 'line', 'car_class'])\n",
        "\n",
        "headings = []\n",
        "for col in X_gas.columns:\n",
        "  headings.append(col)\n",
        "\n",
        "X_gas.head()\n"
      ],
      "execution_count": null,
      "outputs": [
        {
          "output_type": "execute_result",
          "data": {
            "text/html": [
              "<div>\n",
              "<style scoped>\n",
              "    .dataframe tbody tr th:only-of-type {\n",
              "        vertical-align: middle;\n",
              "    }\n",
              "\n",
              "    .dataframe tbody tr th {\n",
              "        vertical-align: top;\n",
              "    }\n",
              "\n",
              "    .dataframe thead th {\n",
              "        text-align: right;\n",
              "    }\n",
              "</style>\n",
              "<table border=\"1\" class=\"dataframe\">\n",
              "  <thead>\n",
              "    <tr style=\"text-align: right;\">\n",
              "      <th></th>\n",
              "      <th>yr</th>\n",
              "      <th>eng</th>\n",
              "      <th>cyl</th>\n",
              "      <th>car_class_Cars</th>\n",
              "      <th>car_class_Trucks</th>\n",
              "      <th>div_ALFA ROMEO</th>\n",
              "      <th>div_Acura</th>\n",
              "      <th>div_Audi</th>\n",
              "      <th>div_BMW</th>\n",
              "      <th>div_Buick</th>\n",
              "      <th>div_Cadillac</th>\n",
              "      <th>div_Chevrolet</th>\n",
              "      <th>div_Chrysler</th>\n",
              "      <th>div_Dodge</th>\n",
              "      <th>div_Ford</th>\n",
              "      <th>div_GENESIS</th>\n",
              "      <th>div_GMC</th>\n",
              "      <th>div_HYUNDAI MOTOR COMPANY</th>\n",
              "      <th>div_Honda</th>\n",
              "      <th>div_INFINITI</th>\n",
              "      <th>div_Jaguar</th>\n",
              "      <th>div_Jeep</th>\n",
              "      <th>div_KIA MOTORS CORPORATION</th>\n",
              "      <th>div_LEXUS</th>\n",
              "      <th>div_Lincoln</th>\n",
              "      <th>div_MAZDA</th>\n",
              "      <th>div_Mercedes-Benz</th>\n",
              "      <th>div_Mini</th>\n",
              "      <th>div_Mitsubishi Motors Corporation</th>\n",
              "      <th>div_NISSAN</th>\n",
              "      <th>div_RAM</th>\n",
              "      <th>div_SCION</th>\n",
              "      <th>div_SUBARU TECNICA INTERNATIONAL</th>\n",
              "      <th>div_Subaru</th>\n",
              "      <th>div_TOYOTA</th>\n",
              "      <th>div_Volkswagen</th>\n",
              "      <th>div_Volvo Cars of North America, LLC</th>\n",
              "      <th>fuel_usage_Gas</th>\n",
              "    </tr>\n",
              "  </thead>\n",
              "  <tbody>\n",
              "    <tr>\n",
              "      <th>0</th>\n",
              "      <td>0</td>\n",
              "      <td>2.0</td>\n",
              "      <td>4.0</td>\n",
              "      <td>1</td>\n",
              "      <td>0</td>\n",
              "      <td>0</td>\n",
              "      <td>1</td>\n",
              "      <td>0</td>\n",
              "      <td>0</td>\n",
              "      <td>0</td>\n",
              "      <td>0</td>\n",
              "      <td>0</td>\n",
              "      <td>0</td>\n",
              "      <td>0</td>\n",
              "      <td>0</td>\n",
              "      <td>0</td>\n",
              "      <td>0</td>\n",
              "      <td>0</td>\n",
              "      <td>0</td>\n",
              "      <td>0</td>\n",
              "      <td>0</td>\n",
              "      <td>0</td>\n",
              "      <td>0</td>\n",
              "      <td>0</td>\n",
              "      <td>0</td>\n",
              "      <td>0</td>\n",
              "      <td>0</td>\n",
              "      <td>0</td>\n",
              "      <td>0</td>\n",
              "      <td>0</td>\n",
              "      <td>0</td>\n",
              "      <td>0</td>\n",
              "      <td>0</td>\n",
              "      <td>0</td>\n",
              "      <td>0</td>\n",
              "      <td>0</td>\n",
              "      <td>0</td>\n",
              "      <td>1</td>\n",
              "    </tr>\n",
              "    <tr>\n",
              "      <th>1</th>\n",
              "      <td>0</td>\n",
              "      <td>2.4</td>\n",
              "      <td>4.0</td>\n",
              "      <td>1</td>\n",
              "      <td>0</td>\n",
              "      <td>0</td>\n",
              "      <td>1</td>\n",
              "      <td>0</td>\n",
              "      <td>0</td>\n",
              "      <td>0</td>\n",
              "      <td>0</td>\n",
              "      <td>0</td>\n",
              "      <td>0</td>\n",
              "      <td>0</td>\n",
              "      <td>0</td>\n",
              "      <td>0</td>\n",
              "      <td>0</td>\n",
              "      <td>0</td>\n",
              "      <td>0</td>\n",
              "      <td>0</td>\n",
              "      <td>0</td>\n",
              "      <td>0</td>\n",
              "      <td>0</td>\n",
              "      <td>0</td>\n",
              "      <td>0</td>\n",
              "      <td>0</td>\n",
              "      <td>0</td>\n",
              "      <td>0</td>\n",
              "      <td>0</td>\n",
              "      <td>0</td>\n",
              "      <td>0</td>\n",
              "      <td>0</td>\n",
              "      <td>0</td>\n",
              "      <td>0</td>\n",
              "      <td>0</td>\n",
              "      <td>0</td>\n",
              "      <td>0</td>\n",
              "      <td>1</td>\n",
              "    </tr>\n",
              "    <tr>\n",
              "      <th>2</th>\n",
              "      <td>0</td>\n",
              "      <td>2.4</td>\n",
              "      <td>4.0</td>\n",
              "      <td>1</td>\n",
              "      <td>0</td>\n",
              "      <td>0</td>\n",
              "      <td>1</td>\n",
              "      <td>0</td>\n",
              "      <td>0</td>\n",
              "      <td>0</td>\n",
              "      <td>0</td>\n",
              "      <td>0</td>\n",
              "      <td>0</td>\n",
              "      <td>0</td>\n",
              "      <td>0</td>\n",
              "      <td>0</td>\n",
              "      <td>0</td>\n",
              "      <td>0</td>\n",
              "      <td>0</td>\n",
              "      <td>0</td>\n",
              "      <td>0</td>\n",
              "      <td>0</td>\n",
              "      <td>0</td>\n",
              "      <td>0</td>\n",
              "      <td>0</td>\n",
              "      <td>0</td>\n",
              "      <td>0</td>\n",
              "      <td>0</td>\n",
              "      <td>0</td>\n",
              "      <td>0</td>\n",
              "      <td>0</td>\n",
              "      <td>0</td>\n",
              "      <td>0</td>\n",
              "      <td>0</td>\n",
              "      <td>0</td>\n",
              "      <td>0</td>\n",
              "      <td>0</td>\n",
              "      <td>1</td>\n",
              "    </tr>\n",
              "    <tr>\n",
              "      <th>3</th>\n",
              "      <td>0</td>\n",
              "      <td>3.5</td>\n",
              "      <td>6.0</td>\n",
              "      <td>1</td>\n",
              "      <td>0</td>\n",
              "      <td>0</td>\n",
              "      <td>1</td>\n",
              "      <td>0</td>\n",
              "      <td>0</td>\n",
              "      <td>0</td>\n",
              "      <td>0</td>\n",
              "      <td>0</td>\n",
              "      <td>0</td>\n",
              "      <td>0</td>\n",
              "      <td>0</td>\n",
              "      <td>0</td>\n",
              "      <td>0</td>\n",
              "      <td>0</td>\n",
              "      <td>0</td>\n",
              "      <td>0</td>\n",
              "      <td>0</td>\n",
              "      <td>0</td>\n",
              "      <td>0</td>\n",
              "      <td>0</td>\n",
              "      <td>0</td>\n",
              "      <td>0</td>\n",
              "      <td>0</td>\n",
              "      <td>0</td>\n",
              "      <td>0</td>\n",
              "      <td>0</td>\n",
              "      <td>0</td>\n",
              "      <td>0</td>\n",
              "      <td>0</td>\n",
              "      <td>0</td>\n",
              "      <td>0</td>\n",
              "      <td>0</td>\n",
              "      <td>0</td>\n",
              "      <td>1</td>\n",
              "    </tr>\n",
              "    <tr>\n",
              "      <th>4</th>\n",
              "      <td>0</td>\n",
              "      <td>3.5</td>\n",
              "      <td>6.0</td>\n",
              "      <td>1</td>\n",
              "      <td>0</td>\n",
              "      <td>0</td>\n",
              "      <td>1</td>\n",
              "      <td>0</td>\n",
              "      <td>0</td>\n",
              "      <td>0</td>\n",
              "      <td>0</td>\n",
              "      <td>0</td>\n",
              "      <td>0</td>\n",
              "      <td>0</td>\n",
              "      <td>0</td>\n",
              "      <td>0</td>\n",
              "      <td>0</td>\n",
              "      <td>0</td>\n",
              "      <td>0</td>\n",
              "      <td>0</td>\n",
              "      <td>0</td>\n",
              "      <td>0</td>\n",
              "      <td>0</td>\n",
              "      <td>0</td>\n",
              "      <td>0</td>\n",
              "      <td>0</td>\n",
              "      <td>0</td>\n",
              "      <td>0</td>\n",
              "      <td>0</td>\n",
              "      <td>0</td>\n",
              "      <td>0</td>\n",
              "      <td>0</td>\n",
              "      <td>0</td>\n",
              "      <td>0</td>\n",
              "      <td>0</td>\n",
              "      <td>0</td>\n",
              "      <td>0</td>\n",
              "      <td>1</td>\n",
              "    </tr>\n",
              "  </tbody>\n",
              "</table>\n",
              "</div>"
            ],
            "text/plain": [
              "   yr  eng  ...  div_Volvo Cars of North America, LLC  fuel_usage_Gas\n",
              "0   0  2.0  ...                                     0               1\n",
              "1   0  2.4  ...                                     0               1\n",
              "2   0  2.4  ...                                     0               1\n",
              "3   0  3.5  ...                                     0               1\n",
              "4   0  3.5  ...                                     0               1\n",
              "\n",
              "[5 rows x 38 columns]"
            ]
          },
          "metadata": {
            "tags": []
          },
          "execution_count": 108
        }
      ]
    },
    {
      "cell_type": "code",
      "metadata": {
        "id": "_C7IyTaMg4hz",
        "colab": {
          "base_uri": "https://localhost:8080/"
        },
        "outputId": "fa7106c0-86ea-4ed7-8cd6-22851b4e8858"
      },
      "source": [
        "# Scale the input features\n",
        "from sklearn.preprocessing import StandardScaler\n",
        "\n",
        "scaler = StandardScaler()\n",
        "scaler.fit(X)\n",
        "X = scaler.transform(X)\n",
        "\n",
        "print('X_scaled=\\n', X)\n",
        "print('mean(X_scaled)=', X.mean(axis=0))\n",
        "print('std(X_scaled)=', X.std(axis=0))"
      ],
      "execution_count": null,
      "outputs": [
        {
          "output_type": "stream",
          "text": [
            "X_scaled=\n",
            " [[-1.48203716 -0.5667142  -0.53200665 ... -0.11785113 -0.24275541\n",
            "   0.24275541]\n",
            " [-1.48203716 -0.29423414 -0.53200665 ... -0.11785113 -0.24275541\n",
            "   0.24275541]\n",
            " [-1.48203716 -0.29423414 -0.53200665 ... -0.11785113 -0.24275541\n",
            "   0.24275541]\n",
            " ...\n",
            " [-1.48203716 -1.92911452 -2.49014878 ... -0.11785113  4.11937262\n",
            "  -4.11937262]\n",
            " [-1.48203716 -1.92911452 -2.49014878 ... -0.11785113  4.11937262\n",
            "  -4.11937262]\n",
            " [-1.48203716 -1.92911452 -2.49014878 ... -0.11785113  4.11937262\n",
            "  -4.11937262]]\n",
            "mean(X_scaled)= [ 6.48897476e-17 -8.92234029e-17  2.43336553e-16 -8.11121844e-18\n",
            " -5.27229199e-17  0.00000000e+00 -1.62224369e-17  5.82993826e-17\n",
            " -2.43336553e-17  0.00000000e+00 -2.02780461e-17 -4.05560922e-18\n",
            "  4.86673107e-17 -7.70565752e-17 -4.46117014e-17 -8.11121844e-18\n",
            " -4.05560922e-18  1.62224369e-17  3.24448738e-17  0.00000000e+00\n",
            "  6.69175522e-17  1.82502415e-17  4.05560922e-18  4.46117014e-17\n",
            " -3.85282876e-17  7.70565752e-17  1.82502415e-17 -1.01390231e-17\n",
            "  8.11121844e-18  1.11529254e-17  0.00000000e+00 -4.46117014e-17\n",
            "  1.62224369e-17  1.21668277e-17 -1.52085346e-17  1.01390231e-17\n",
            " -1.01390231e-17 -6.08341383e-18 -3.65004830e-17  5.67785291e-17\n",
            "  4.25838968e-17  2.43336553e-17  9.12512075e-18  5.67785291e-17\n",
            "  0.00000000e+00 -1.62224369e-17  1.01390231e-17  2.02780461e-18\n",
            "  1.62224369e-17  3.65004830e-17  2.23058507e-17  7.09731614e-18\n",
            "  5.27229199e-17 -4.05560922e-18  6.48897476e-17 -1.62224369e-16]\n",
            "std(X_scaled)= [1. 1. 1. 1. 1. 1. 1. 1. 1. 1. 1. 1. 1. 1. 1. 1. 1. 1. 1. 1. 1. 1. 1. 1.\n",
            " 1. 1. 1. 1. 1. 1. 1. 1. 1. 1. 1. 1. 1. 1. 1. 1. 1. 1. 1. 1. 1. 1. 1. 1.\n",
            " 1. 1. 1. 1. 1. 1. 1. 1.]\n"
          ],
          "name": "stdout"
        }
      ]
    },
    {
      "cell_type": "code",
      "metadata": {
        "colab": {
          "base_uri": "https://localhost:8080/"
        },
        "id": "ccXH0sCYXGG0",
        "outputId": "fa873658-98a0-4a98-8908-bef18fa720b3"
      },
      "source": [
        "# Scale the input features\n",
        "\n",
        "scaler = StandardScaler()\n",
        "scaler.fit(X_gas)\n",
        "X_gas = scaler.transform(X_gas)\n",
        "\n",
        "print('X_scaled=\\n', X_gas)\n",
        "print('mean(X_scaled)=', X_gas.mean(axis=0))\n",
        "print('std(X_scaled)=', X_gas.std(axis=0))"
      ],
      "execution_count": null,
      "outputs": [
        {
          "output_type": "stream",
          "text": [
            "X_scaled=\n",
            " [[-1.46742209 -0.74832277 -0.82800487 ... -0.18803376 -0.12132358\n",
            "   0.        ]\n",
            " [-1.46742209 -0.44864045 -0.82800487 ... -0.18803376 -0.12132358\n",
            "   0.        ]\n",
            " [-1.46742209 -0.44864045 -0.82800487 ... -0.18803376 -0.12132358\n",
            "   0.        ]\n",
            " ...\n",
            " [ 1.61719391  2.02373864  1.5607206  ... -0.18803376 -0.12132358\n",
            "   0.        ]\n",
            " [ 1.61719391  2.39834153  1.5607206  ... -0.18803376 -0.12132358\n",
            "   0.        ]\n",
            " [ 1.61719391  2.02373864  1.5607206  ... -0.18803376 -0.12132358\n",
            "   0.        ]]\n",
            "mean(X_scaled)= [ 1.37427425e-16  8.15975339e-17 -4.29460705e-18 -8.58921409e-17\n",
            "  8.58921409e-17  2.36203388e-17  4.29460705e-18 -8.58921409e-18\n",
            " -6.87137127e-17  0.00000000e+00 -5.79771951e-17  6.44191057e-18\n",
            "  0.00000000e+00 -3.00622493e-17 -1.28838211e-16  0.00000000e+00\n",
            "  3.43568564e-17 -9.66286585e-17  4.29460705e-18 -2.36203388e-17\n",
            "  3.00622493e-17  0.00000000e+00 -4.72406775e-17  3.22095528e-17\n",
            "  5.15352846e-17  6.44191057e-18 -9.23340515e-17 -1.71784282e-17\n",
            "  5.79771951e-17 -1.71784282e-17 -8.58921409e-18  4.29460705e-18\n",
            " -2.14730352e-18  4.93879810e-17  8.58921409e-18 -6.87137127e-17\n",
            " -1.93257317e-17  0.00000000e+00]\n",
            "std(X_scaled)= [1. 1. 1. 1. 1. 1. 1. 1. 1. 1. 1. 1. 1. 1. 1. 1. 1. 1. 1. 1. 1. 1. 1. 1.\n",
            " 1. 1. 1. 1. 1. 1. 1. 1. 1. 1. 1. 1. 1. 0.]\n"
          ],
          "name": "stdout"
        }
      ]
    },
    {
      "cell_type": "code",
      "metadata": {
        "id": "rlHgNPtzyYRC",
        "colab": {
          "base_uri": "https://localhost:8080/"
        },
        "outputId": "c6f78db3-defb-4578-b5fa-4ad4013a18b6"
      },
      "source": [
        "# Split data into training and testing sets\n",
        "X_train, X_test, y_train, y_test = train_test_split(X, y, test_size=.33)\n",
        "X_train.shape, y_train.shape\n",
        "X_test.shape, y_test.shape\n",
        "\n",
        "X_gas_train, X_gas_test, y_gas_train, y_gas_test = train_test_split(X_gas, y_gas, test_size=.33)\n",
        "X_gas_train.shape, y_gas_train.shape\n",
        "X_gas_test.shape, y_gas_test.shape"
      ],
      "execution_count": null,
      "outputs": [
        {
          "output_type": "execute_result",
          "data": {
            "text/plain": [
              "((1092, 38), (1092,))"
            ]
          },
          "metadata": {
            "tags": []
          },
          "execution_count": 111
        }
      ]
    },
    {
      "cell_type": "markdown",
      "metadata": {
        "id": "bQQkQacqYzOs"
      },
      "source": [
        "#Modeling"
      ]
    },
    {
      "cell_type": "code",
      "metadata": {
        "id": "SR_1jqRhhf3Q",
        "colab": {
          "base_uri": "https://localhost:8080/"
        },
        "outputId": "8588c4b9-55f6-4d10-de07-3fcdf3d8df01"
      },
      "source": [
        "# Build the linear regression\n",
        "from sklearn.linear_model import LassoCV, LinearRegression, RidgeCV, Lasso\n",
        "from sklearn.preprocessing import StandardScaler\n",
        "from sklearn import datasets\n",
        "from sklearn import linear_model\n",
        "from sklearn import preprocessing\n",
        "from sklearn.metrics import mean_squared_error\n",
        "from sklearn.model_selection import train_test_split\n",
        "from sklearn.linear_model import LogisticRegressionCV\n",
        "\n",
        "lg = linear_model.LinearRegression(fit_intercept = True)\n",
        "lg.fit(X_train,y_train)\n",
        "print('wO = ', lg.intercept_)\n",
        "print('w1 = ', lg.coef_)\n",
        "\n",
        "lg_gas = linear_model.LinearRegression(fit_intercept = True)\n",
        "lg_gas.fit(X_gas_train,y_gas_train)\n",
        "print('wO_gas = ', lg_gas.intercept_)\n",
        "print('w1_gas = ', lg_gas.coef_)"
      ],
      "execution_count": null,
      "outputs": [
        {
          "output_type": "stream",
          "text": [
            "wO =  3827677805855.509\n",
            "w1 =  [ 4.05873384e-01 -3.45496628e+00 -1.21510235e+00 -1.21003208e+14\n",
            " -1.21003208e+14  7.84721048e+12  4.05866499e+12  1.41137121e+13\n",
            "  2.11424893e+13  3.58561206e+13  1.35332070e+13  5.36680757e+12\n",
            "  2.18587331e+13  2.93409880e+13  1.35332070e+13  2.33784539e+13\n",
            "  4.53707711e+12  6.08364736e+12  3.07087600e+13  1.55928817e+13\n",
            "  2.02062828e+13  3.51540908e+12  5.73653824e+12  2.57519701e+13\n",
            "  2.34595200e+13  1.79527531e+13  3.51540908e+12  1.75083972e+13\n",
            "  4.96940869e+12  2.03020202e+12  6.41180990e+12  2.28014783e+13\n",
            "  2.20336225e+13  1.53352486e+13  2.03021071e+13  3.51540908e+12\n",
            "  2.87072939e+12  2.87072939e+12  2.78839442e+13  2.07737502e+13\n",
            "  1.24487362e+13  2.17706805e+13  2.03020202e+12  1.62178005e+13\n",
            "  4.96940869e+12  6.08364736e+12  2.28575703e+14  1.54646397e+13\n",
            "  1.99156893e+13  2.73536298e+13  3.51540908e+12  2.03020202e+12\n",
            "  2.12335351e+13  1.39709736e+13 -2.50378077e+13 -2.50378077e+13]\n",
            "wO_gas =  -2137174620.3108265\n",
            "w1_gas =  [ 1.36933566e-01 -3.25256310e+00 -8.51836188e-01 -5.37633349e+11\n",
            " -5.37633349e+11  4.75058880e+11  8.54174994e+11  1.27885216e+12\n",
            "  2.13320650e+12  8.19070614e+11  1.32208049e+12  1.77292517e+12\n",
            "  8.19070614e+11  1.41376647e+12  1.85515869e+12  9.43605566e+11\n",
            "  1.22233312e+12  1.55685509e+12  1.41865582e+12  1.08622309e+12\n",
            "  1.05937486e+12  3.00863792e+11  1.37896298e+12  1.33263422e+12\n",
            "  9.28031024e+11  1.22811881e+12  1.68525402e+12  1.25659327e+12\n",
            "  7.53480615e+11  1.23959814e+12  9.81379800e+11  3.00863792e+11\n",
            " -1.61107659e-02  9.35853135e+11  1.65332803e+12  1.28434772e+12\n",
            "  8.45543648e+11  0.00000000e+00]\n"
          ],
          "name": "stdout"
        }
      ]
    },
    {
      "cell_type": "code",
      "metadata": {
        "id": "y86f1IGVhf0b",
        "colab": {
          "base_uri": "https://localhost:8080/"
        },
        "outputId": "2181272e-4974-4465-f02a-c85dfa7e337e"
      },
      "source": [
        "# Lasso\n",
        "l1 = LassoCV(cv=10, n_alphas=100, eps=1e-2, tol=.1)\n",
        "l1.fit(X_train, y_train)\n",
        "print('alpha = ', l1.alpha_) \n",
        "print('intercept = ', l1.intercept_)\n",
        "print('coef = ', l1.coef_)\n",
        "print('')\n",
        "\n",
        "l1_gas = LassoCV(cv=10, n_alphas=100, eps=1e-2, tol=.1)\n",
        "l1_gas.fit(X_gas_train, y_gas_train)\n",
        "print('alpha = ', l1_gas.alpha_) \n",
        "print('intercept = ', l1_gas.intercept_)\n",
        "print('coef = ', l1_gas.coef_)"
      ],
      "execution_count": null,
      "outputs": [
        {
          "output_type": "stream",
          "text": [
            "alpha =  0.19252003311319318\n",
            "intercept =  29.596194298621985\n",
            "coef =  [ 9.97791695e-02 -1.77283214e+00 -3.50735097e+00  6.45074400e-01\n",
            " -2.49429451e-16 -0.00000000e+00 -1.38573290e-03 -0.00000000e+00\n",
            " -5.20038297e-02  0.00000000e+00 -9.15490177e-02  1.36438768e+00\n",
            " -3.31635958e-01  0.00000000e+00 -0.00000000e+00  0.00000000e+00\n",
            "  1.03630961e+00  8.92501364e-01 -0.00000000e+00 -1.48391936e-01\n",
            "  0.00000000e+00  7.62381442e-01  2.13137873e+00  3.96433247e-01\n",
            "  6.79726709e-01 -0.00000000e+00 -0.00000000e+00 -8.96924799e-02\n",
            " -0.00000000e+00  1.16801669e-01  1.30732752e+00  0.00000000e+00\n",
            "  8.13646329e-02 -7.34603135e-02  1.63443491e-01  0.00000000e+00\n",
            "  5.05743079e-01  4.77857514e-01 -0.00000000e+00 -2.82640835e-01\n",
            "  3.87182182e-02  5.42175869e-01  4.93424890e-02  0.00000000e+00\n",
            " -0.00000000e+00  1.09246816e+00 -0.00000000e+00 -1.62550857e-01\n",
            "  3.57768314e+00  1.24491756e+00  5.80646490e-01 -0.00000000e+00\n",
            " -0.00000000e+00 -1.49931626e-01  1.10324387e+01 -9.67646900e-15]\n",
            "\n",
            "alpha =  0.04874365643303813\n",
            "intercept =  25.1384211996469\n",
            "coef =  [ 0.01422779 -4.15259606 -0.37147888  0.8793336  -0.         -0.20922528\n",
            " -0.01215881 -0.45104219 -0.73521818 -0.27869753 -0.59428632  0.05081314\n",
            " -0.05985384  0.091456   -0.31808935 -0.43377235  0.13815182  0.60418954\n",
            "  0.56161477 -0.17419659 -0.34222178 -0.         -0.11266024  0.05557745\n",
            " -0.25395994  0.30006368 -0.38893356 -0.5707703   0.09867472  0.20758107\n",
            "  0.09823546 -0.         -0.         -0.33360102  1.37683774 -0.17018644\n",
            " -0.31826215  0.        ]\n"
          ],
          "name": "stdout"
        }
      ]
    },
    {
      "cell_type": "code",
      "metadata": {
        "id": "9Ak2Q2POhfvY",
        "colab": {
          "base_uri": "https://localhost:8080/"
        },
        "outputId": "6cde7a6c-ce94-4453-e811-9a4448929fd3"
      },
      "source": [
        "# Ridge CV\n",
        "l2 = RidgeCV(alphas=[0.1, 1.0, 10.0])\n",
        "l2.fit(X_train, y_train)\n",
        "#print('alpha = ', l2.alpha_) \n",
        "print('coef = ', l2.coef_)\n",
        "\n",
        "l2_gas = RidgeCV(alphas=[0.1, 1.0, 10.0])\n",
        "l2_gas.fit(X_gas_train, y_gas_train)\n",
        "#print('alpha = ', l2.alpha_) \n",
        "print('coef = ', l2_gas.coef_)"
      ],
      "execution_count": null,
      "outputs": [
        {
          "output_type": "stream",
          "text": [
            "coef =  [ 4.02038976e-01 -2.97329031e+00 -1.68674406e+00  7.57763338e-01\n",
            " -7.57763338e-01 -1.81311524e-01 -1.23493487e+00 -1.06675975e-02\n",
            " -3.54390908e-01 -4.49285158e-01 -2.40580266e-01  2.61607028e-01\n",
            " -5.43082097e-01  4.15224161e-01 -7.84543327e-02  5.07145119e-03\n",
            "  2.42184965e-02 -4.99015083e-01  9.48069749e-02 -4.05508198e-01\n",
            "  4.46464971e-01  4.18653002e-02  7.98532234e-01  5.83326659e-01\n",
            "  8.31323470e-01 -5.42495245e-02 -1.07825224e+00 -3.17765928e-01\n",
            "  8.98241184e-03 -2.89387727e-01 -1.78791010e-01  3.80937735e-02\n",
            "  1.70451045e-01 -2.80148777e-01  4.02108684e-01 -8.20977086e-01\n",
            " -1.20946668e-01 -3.55714268e-03 -2.58902901e-01 -4.31779046e-01\n",
            "  2.50562573e-01  3.02673404e-01 -3.56759605e-01  3.50679049e-01\n",
            "  2.30830072e-02 -2.90215401e-01  4.96803644e-28 -3.43797119e-01\n",
            " -1.40915711e+00  1.50603748e+00 -1.44892789e-01 -5.75718209e-01\n",
            " -5.68929043e-02 -3.04654324e-01  8.78807783e+00 -8.78807783e+00]\n",
            "coef =  [ 1.37603231e-01 -3.11821071e+00 -9.70472055e-01  8.15408461e-01\n",
            " -8.15408461e-01 -2.34067296e-01 -5.69836198e-02 -4.33852650e-01\n",
            " -6.97178990e-01 -3.15763414e-01 -6.33770817e-01  3.02284987e-01\n",
            " -1.34174313e-01 -3.29136054e-02 -3.10625731e-02 -5.03337769e-01\n",
            "  4.17044326e-01  7.33573113e-01  7.10153635e-01 -2.35075897e-01\n",
            " -3.67971870e-01  5.15675446e-02 -9.48643553e-02  8.96095474e-02\n",
            " -2.76496698e-01  3.65101989e-01 -4.02188431e-01 -5.35529281e-01\n",
            "  1.96121773e-01  3.36020565e-01  3.40439692e-01 -1.36529973e-02\n",
            " -5.07205206e-29 -3.61948149e-01  1.50376651e+00 -1.33767742e-01\n",
            " -3.28489678e-01  0.00000000e+00]\n"
          ],
          "name": "stdout"
        }
      ]
    },
    {
      "cell_type": "code",
      "metadata": {
        "id": "LImQTfqLex9D"
      },
      "source": [
        ""
      ],
      "execution_count": null,
      "outputs": []
    },
    {
      "cell_type": "code",
      "metadata": {
        "id": "ZHhLxXzOex5l"
      },
      "source": [
        ""
      ],
      "execution_count": null,
      "outputs": []
    },
    {
      "cell_type": "code",
      "metadata": {
        "id": "XIHy1QS_ex2O"
      },
      "source": [
        ""
      ],
      "execution_count": null,
      "outputs": []
    },
    {
      "cell_type": "markdown",
      "metadata": {
        "id": "HhApwt-IY4fR"
      },
      "source": [
        "#Model Evaluation"
      ]
    },
    {
      "cell_type": "code",
      "metadata": {
        "id": "9hp8aHB5Y_th",
        "colab": {
          "base_uri": "https://localhost:8080/"
        },
        "outputId": "07542e8f-1c13-43b0-b2ee-08b0dc389c5d"
      },
      "source": [
        "# Calculate Linear Regression - training RMSE and testing RMSE\n",
        "\n",
        "lg_y_pred_train = lg.predict(X_train)\n",
        "lg_train_RMSE = mean_squared_error(y_train, lg_y_pred_train)\n",
        "print('training RMSE = ', lg_train_RMSE)\n",
        "\n",
        "lg_y_pred_test = lg.predict(X_test)\n",
        "lg_test_RMSE = mean_squared_error(y_test.to_numpy(), lg_y_pred_test)\n",
        "print('testing RMSE = ', lg_test_RMSE)\n",
        "\n",
        "X_test"
      ],
      "execution_count": null,
      "outputs": [
        {
          "output_type": "stream",
          "text": [
            "training RMSE =  20.802855705371755\n",
            "testing RMSE =  1.5547679660633103e+29\n"
          ],
          "name": "stdout"
        },
        {
          "output_type": "execute_result",
          "data": {
            "text/plain": [
              "array([[-0.96878768,  1.27252622,  1.42613548, ..., -0.11785113,\n",
              "        -0.24275541,  0.24275541],\n",
              "       [-1.48203716, -0.5667142 , -0.53200665, ..., -0.11785113,\n",
              "        -0.24275541,  0.24275541],\n",
              "       [ 0.05771127, -0.5667142 , -0.53200665, ..., -0.11785113,\n",
              "        -0.24275541,  0.24275541],\n",
              "       ...,\n",
              "       [-0.96878768,  2.29432645,  1.42613548, ..., -0.11785113,\n",
              "        -0.24275541,  0.24275541],\n",
              "       [ 1.5974597 , -0.90731428, -0.53200665, ..., -0.11785113,\n",
              "        -0.24275541,  0.24275541],\n",
              "       [-0.96878768,  1.68124631,  1.42613548, ..., -0.11785113,\n",
              "        -0.24275541,  0.24275541]])"
            ]
          },
          "metadata": {
            "tags": []
          },
          "execution_count": 115
        }
      ]
    },
    {
      "cell_type": "code",
      "metadata": {
        "colab": {
          "base_uri": "https://localhost:8080/"
        },
        "id": "RJ2xONn5YbuS",
        "outputId": "10d74a9a-2f5b-4493-9ebc-7b1eddf06428"
      },
      "source": [
        "# Calculate Linear Regression - GAS ONLY - training RMSE and testing RMSE\n",
        "\n",
        "lg_y_pred_train = lg_gas.predict(X_gas_train)\n",
        "lg_train_RMSE = mean_squared_error(y_gas_train, lg_y_pred_train)\n",
        "print('Gas training RMSE = ', lg_train_RMSE)\n",
        "\n",
        "lg_y_pred_test = lg_gas.predict(X_gas_test)\n",
        "lg_test_RMSE = mean_squared_error(y_gas_test.to_numpy(), lg_y_pred_test)\n",
        "print('Gas testing RMSE = ', lg_test_RMSE)"
      ],
      "execution_count": null,
      "outputs": [
        {
          "output_type": "stream",
          "text": [
            "Gas training RMSE =  15.871893869562554\n",
            "Gas testing RMSE =  4.579846501999267e+22\n"
          ],
          "name": "stdout"
        }
      ]
    },
    {
      "cell_type": "code",
      "metadata": {
        "id": "NULdFij_h8e8",
        "colab": {
          "base_uri": "https://localhost:8080/"
        },
        "outputId": "2ddbec16-4b64-4b0b-bdd6-193f92ba21ba"
      },
      "source": [
        "# Calculate Lasso (best alpha) - training RMSE and average RMSE\n",
        "\n",
        "l1_y_pred_train = l1.predict(X_train)\n",
        "l1_train_RMSE = mean_squared_error(y_train, l1_y_pred_train)\n",
        "print('training RMSE = ', l1_train_RMSE)\n",
        "\n",
        "means_MSE = l1.mse_path_.mean()\n",
        "SEs_MSE = l1.mse_path_.std()/np.sqrt(l1.mse_path_.shape[0])\n",
        "print('average RMSE = ', means_MSE)\n",
        "print('SEs RMSE = ', SEs_MSE)"
      ],
      "execution_count": null,
      "outputs": [
        {
          "output_type": "stream",
          "text": [
            "training RMSE =  27.21975709911826\n",
            "average RMSE =  76.50169037484446\n",
            "SEs RMSE =  8.993078950268885\n"
          ],
          "name": "stdout"
        }
      ]
    },
    {
      "cell_type": "code",
      "metadata": {
        "colab": {
          "base_uri": "https://localhost:8080/"
        },
        "id": "5ez6ed3xYmMT",
        "outputId": "f55c425a-10ff-4af6-fc7d-628982eb315c"
      },
      "source": [
        "# Calculate Lasso (best alpha) - GAS ONLY - training RMSE and average RMSE\n",
        "\n",
        "l1_y_pred_train = l1_gas.predict(X_gas_train)\n",
        "l1_train_RMSE = mean_squared_error(y_gas_train, l1_y_pred_train)\n",
        "print('training RMSE = ', l1_train_RMSE)\n",
        "\n",
        "means_MSE = l1_gas.mse_path_.mean()\n",
        "SEs_MSE = l1_gas.mse_path_.std()/np.sqrt(l1_gas.mse_path_.shape[0])\n",
        "print('average RMSE = ', means_MSE)\n",
        "print('SEs RMSE = ', SEs_MSE)"
      ],
      "execution_count": null,
      "outputs": [
        {
          "output_type": "stream",
          "text": [
            "training RMSE =  16.146401762380357\n",
            "average RMSE =  22.05834637086011\n",
            "SEs RMSE =  0.7929939949567392\n"
          ],
          "name": "stdout"
        }
      ]
    },
    {
      "cell_type": "code",
      "metadata": {
        "id": "7YUL7XkBh8b8",
        "colab": {
          "base_uri": "https://localhost:8080/"
        },
        "outputId": "c146e14a-78aa-426c-d4a2-22d95eff2751"
      },
      "source": [
        "# Calculate Lasso (best alpha) - testing RMSE\n",
        "\n",
        "l1_y_pred_test = l1.predict(X_test)\n",
        "l1_test_RMSE = mean_squared_error(y_test, l1_y_pred_test)\n",
        "print('testing RMSE = ', l1_test_RMSE)"
      ],
      "execution_count": null,
      "outputs": [
        {
          "output_type": "stream",
          "text": [
            "testing RMSE =  27.24732751483276\n"
          ],
          "name": "stdout"
        }
      ]
    },
    {
      "cell_type": "code",
      "metadata": {
        "colab": {
          "base_uri": "https://localhost:8080/"
        },
        "id": "P8wN4praYySE",
        "outputId": "83f03fc1-f64b-4cab-b0b4-56a459b3afab"
      },
      "source": [
        "# Calculate Lasso (best alpha) - GAS ONLY - testing RMSE\n",
        "\n",
        "l1_y_pred_test = l1_gas.predict(X_gas_test)\n",
        "l1_test_RMSE = mean_squared_error(y_gas_test, l1_y_pred_test)\n",
        "print('testing RMSE = ', l1_test_RMSE)"
      ],
      "execution_count": null,
      "outputs": [
        {
          "output_type": "stream",
          "text": [
            "testing RMSE =  14.213441473216315\n"
          ],
          "name": "stdout"
        }
      ]
    },
    {
      "cell_type": "code",
      "metadata": {
        "id": "xMo0xNWrh8Y4",
        "colab": {
          "base_uri": "https://localhost:8080/"
        },
        "outputId": "75e452de-ceb9-475c-f51a-674b11a34f8b"
      },
      "source": [
        "# Calculate Ridge - training RMSE and average RMSE\n",
        "\n",
        "l2_y_pred_train = l2.predict(X_train)\n",
        "l2_train_RMSE = mean_squared_error(y_train, l2_y_pred_train)\n",
        "print('training RMSE = ', l2_train_RMSE)\n",
        "\n",
        "#means_MSE = l2.mse_path_.mean()\n",
        "#SEs_MSE = l2.mse_path_.std()/np.sqrt(l2.mse_path_.shape[0])\n",
        "#print('average RMSE = ', means_MSE)\n",
        "#print('SEs RMSE = ', SEs_MSE)"
      ],
      "execution_count": null,
      "outputs": [
        {
          "output_type": "stream",
          "text": [
            "training RMSE =  20.74059436910784\n"
          ],
          "name": "stdout"
        }
      ]
    },
    {
      "cell_type": "code",
      "metadata": {
        "id": "YV-ae_SHh8WE",
        "colab": {
          "base_uri": "https://localhost:8080/"
        },
        "outputId": "b4c1da57-ba0f-445b-b886-8ccba4d72851"
      },
      "source": [
        "# Calculate Ridge - testing RMSE\n",
        "\n",
        "l2_y_pred_test = l2.predict(X_test)\n",
        "l2_test_RMSE = mean_squared_error(y_test, l2_y_pred_test)\n",
        "print('testing RMSE = ', l2_test_RMSE)"
      ],
      "execution_count": null,
      "outputs": [
        {
          "output_type": "stream",
          "text": [
            "testing RMSE =  21.148590411545783\n"
          ],
          "name": "stdout"
        }
      ]
    },
    {
      "cell_type": "code",
      "metadata": {
        "colab": {
          "base_uri": "https://localhost:8080/"
        },
        "id": "I9c9y2vaftwy",
        "outputId": "4a36d38a-0be9-42a6-bd86-35f3fe5c2b64"
      },
      "source": [
        "# Calculate Ridge - GAS ONLY - training RMSE and average RMSE\n",
        "\n",
        "l2_y_pred_train = l2_gas.predict(X_gas_train)\n",
        "l2_train_RMSE = mean_squared_error(y_gas_train, l2_y_pred_train)\n",
        "print('training RMSE = ', l2_train_RMSE)\n",
        "\n",
        "#means_MSE = l2.mse_path_.mean()\n",
        "#SEs_MSE = l2.mse_path_.std()/np.sqrt(l2.mse_path_.shape[0])\n",
        "#print('average RMSE = ', means_MSE)\n",
        "#print('SEs RMSE = ', SEs_MSE)"
      ],
      "execution_count": null,
      "outputs": [
        {
          "output_type": "stream",
          "text": [
            "training RMSE =  15.873183676458556\n"
          ],
          "name": "stdout"
        }
      ]
    },
    {
      "cell_type": "code",
      "metadata": {
        "colab": {
          "base_uri": "https://localhost:8080/"
        },
        "id": "bPRxGsr_Y9i2",
        "outputId": "aae94eb2-d52e-458d-9e61-6e93b2d7314c"
      },
      "source": [
        "# Calculate Ridge - GAS ONLY - testing RMSE\n",
        "\n",
        "l2_y_pred_test = l2_gas.predict(X_gas_test)\n",
        "l2_test_RMSE = mean_squared_error(y_gas_test, l2_y_pred_test)\n",
        "print('testing RMSE = ', l2_test_RMSE)"
      ],
      "execution_count": null,
      "outputs": [
        {
          "output_type": "stream",
          "text": [
            "testing RMSE =  13.836757480247895\n"
          ],
          "name": "stdout"
        }
      ]
    },
    {
      "cell_type": "code",
      "metadata": {
        "colab": {
          "base_uri": "https://localhost:8080/"
        },
        "id": "lx69aoGRglPS",
        "outputId": "09cc3a34-4284-4aef-b810-9e84229f8406"
      },
      "source": [
        "# predictions\n",
        "# df of 2024 Ford 3.5L 6 cylinder gas Truck\n",
        "from pandas import DataFrame\n",
        "truck = [9,\t3.5,\t6,\t1,\t0,\t0,\t0,\t0,\t0,\t0,\t0,\t0,\t0,\t0,\t1,\t0,\t0,\t0,\t0,\t0,\t0,\t0,\t0,\t0,\t0,\t0,\t0,\t0,\t0,\t0,\t0,\t0,\t0,\t0,\t0,\t0,\t0,\t1]\n",
        "truck_21 = [5,\t3.5,\t6,\t1,\t0,\t0,\t0,\t0,\t0,\t0,\t0,\t0,\t0,\t0,\t1,\t0,\t0,\t0,\t0,\t0,\t0,\t0,\t0,\t0,\t0,\t0,\t0,\t0,\t0,\t0,\t0,\t0,\t0,\t0,\t0,\t0,\t0,\t1]\n",
        "truck_df = DataFrame(truck).transpose()\n",
        "truck_21_df = DataFrame(truck_21).transpose()\n",
        "truck_df = scaler.transform(truck_df)\n",
        "truck_21_df = scaler.transform(truck_21_df)\n",
        "#truck_df\n",
        "lg_pred = lg_gas.predict(truck_df)\n",
        "ridge_pred = l2_gas.predict(truck_df)\n",
        "lasso_pred = l1_gas.predict(truck_df)\n",
        "\n",
        "print(lg_pred)\n",
        "print(ridge_pred)\n",
        "print(lasso_pred)\n",
        "print()\n",
        "\n",
        "lg21_pred = lg_gas.predict(truck_21_df)\n",
        "ridge21_pred = l2_gas.predict(truck_21_df)\n",
        "lasso21_pred = l1_gas.predict(truck_21_df)\n",
        "print(lg21_pred)\n",
        "print(ridge21_pred)\n",
        "print(lasso21_pred)\n",
        "#l2_test_RMSE = mean_squared_error(y_gas_test, l2_y_pred_test)\n",
        "#print('testing RMSE = ', l2_test_RMSE)"
      ],
      "execution_count": null,
      "outputs": [
        {
          "output_type": "stream",
          "text": [
            "[24.56123447]\n",
            "[24.58594074]\n",
            "[22.95759188]\n",
            "\n",
            "[24.27998447]\n",
            "[24.30297199]\n",
            "[22.92833371]\n"
          ],
          "name": "stdout"
        }
      ]
    },
    {
      "cell_type": "code",
      "metadata": {
        "id": "LVIg2S-FhflM",
        "colab": {
          "base_uri": "https://localhost:8080/",
          "height": 312
        },
        "outputId": "5e72b52d-a253-41f0-cd9f-47e566ec259b"
      },
      "source": [
        "# Line plot of average fuel economy year over year\n",
        "\n",
        "#Car_Gasdf\n",
        "#Truck_Gasdf\n",
        "#EVdf\n",
        "\n",
        "\n",
        "\n",
        "c_avg = Car_Gasdf.groupby(['yr']).mean()\n",
        "t_avg = Truck_Gasdf.groupby(['yr']).mean()\n",
        "e_avg = EVdf.groupby(['yr']).mean()\n",
        "\n",
        "\n",
        "\n",
        "years = [2015, 2016, 2017, 2018, 2019, 2020, 2021]\n",
        "X = np.array([0,1,2,3,4,5,6]).reshape(-1,1)\n",
        "e_y = np.array(e_avg['fe_comb'].tolist())\n",
        "\n",
        "x_test = np.array([0,1,2,3,4,5,6]).reshape(-1,1)\n",
        "\n",
        "e_model = LinearRegression()\n",
        "e_model.fit(X, e_y)\n",
        "e_y_pred = e_model.predict(x_test)\n",
        "\n",
        "a = t_avg['fe_comb'].plot.line()\n",
        "c_avg['fe_comb'].plot.line()\n",
        "e_avg['fe_comb'].plot.line()\n",
        "a.plot(years, e_y_pred)\n",
        "\n",
        "a.set_title('Average Fuel Economy')\n",
        "a.legend(['Trucks', 'Gas Cars', 'EV Cars', 'EV Trend'])\n",
        "a.set_ylabel('Fuel Economy')\n",
        "\n",
        "print('EV intercept: ', e_model.intercept_, 'EV Slope: ', e_model.coef_)\n",
        "\n",
        "# EV fuel economy improving by .802 mpg per year"
      ],
      "execution_count": null,
      "outputs": [
        {
          "output_type": "stream",
          "text": [
            "EV intercept:  103.60438821993445 EV Slope:  [0.80270997]\n"
          ],
          "name": "stdout"
        },
        {
          "output_type": "display_data",
          "data": {
            "image/png": "[encoded data removed]",
            "text/plain": [
              "<Figure size 432x288 with 1 Axes>"
            ]
          },
          "metadata": {
            "tags": [],
            "needs_background": "light"
          }
        }
      ]
    },
    {
      "cell_type": "code",
      "metadata": {
        "colab": {
          "base_uri": "https://localhost:8080/",
          "height": 329
        },
        "id": "Ui1VUyL5xJME",
        "outputId": "ea39a7b4-eb76-43fd-8311-793db3d7ed16"
      },
      "source": [
        "# Line plot of average fuel economy year over year\n",
        "from sklearn.linear_model import LinearRegression\n",
        "#Car_Gasdf\n",
        "#Truck_Gasdf\n",
        "#EVdf\n",
        "\n",
        "\n",
        "years = [2015, 2016, 2017, 2018, 2019, 2020, 2021]\n",
        "c_avg = Car_Gasdf.groupby(['yr']).mean()\n",
        "t_avg = Truck_Gasdf.groupby(['yr']).mean()\n",
        "c_avg['fe_comb']\n",
        "type(t_avg['fe_comb'])\n",
        "\n",
        "X = np.array([0,1,2,3,4,5,6]).reshape(-1,1)\n",
        "y = np.array(c_avg['fe_comb'].tolist())\n",
        "t_y = np.array(t_avg['fe_comb'].tolist())\n",
        "\n",
        "x_test = np.array([0,1,2,3,4,5,6]).reshape(-1,1)\n",
        "\n",
        "c_model = LinearRegression()\n",
        "c_model.fit(X, y)\n",
        "c_y_pred = c_model.predict(x_test)\n",
        "\n",
        "t_model = LinearRegression()\n",
        "t_model.fit(X, t_y)\n",
        "t_y_pred = t_model.predict(x_test)\n",
        "\n",
        "\n",
        "\n",
        "a = t_avg['fe_comb'].plot.line()\n",
        "c_avg['fe_comb'].plot.line()\n",
        "a.plot(years,t_y_pred)\n",
        "a.plot(years, c_y_pred)\n",
        "\n",
        "\n",
        "\n",
        "a.set_title('Average Fuel Economy')\n",
        "a.legend(['Trucks', 'Gas Cars', 'Trucks Trend', 'Cars Trend'])\n",
        "a.set_ylabel('Fuel Economy')\n",
        "\n",
        "t_y_p = t_model.predict(np.array([7,9]).reshape(-1,1))\n",
        "\n",
        "c_y_p = c_model.predict(np.array([7,9]).reshape(-1,1))\n",
        "\n",
        "print('Car intercept: ', c_model.intercept_, 'Car Slope: ', c_model.coef_)\n",
        "print('Truck intercept: ', t_model.intercept_, 'Truck Slope: ', t_model.coef_)\n",
        "\n",
        "\n",
        "# Gas car fuel economy increasing at .337 mpg per year\n",
        "# Gas truck fuel economy increasing at .224 mpg per year"
      ],
      "execution_count": null,
      "outputs": [
        {
          "output_type": "stream",
          "text": [
            "Car intercept:  25.257516707984042 Car Slope:  [0.33714356]\n",
            "Truck intercept:  17.76516149944462 Truck Slope:  [0.22412681]\n"
          ],
          "name": "stdout"
        },
        {
          "output_type": "display_data",
          "data": {
            "image/png": "[encoded data removed]",
            "text/plain": [
              "<Figure size 432x288 with 1 Axes>"
            ]
          },
          "metadata": {
            "tags": [],
            "needs_background": "light"
          }
        }
      ]
    },
    {
      "cell_type": "code",
      "metadata": {
        "colab": {
          "base_uri": "https://localhost:8080/",
          "height": 329
        },
        "id": "SIFizyi0rHE6",
        "outputId": "e8d11c93-e8d8-4d15-c4f3-05169ba1c4a1"
      },
      "source": [
        "# Line plot of average fuel economy year over year\n",
        "from sklearn.linear_model import LinearRegression\n",
        "#Car_Gasdf\n",
        "#Truck_Gasdf\n",
        "#EVdf\n",
        "\n",
        "\n",
        "years = [2015, 2016, 2017, 2018, 2019, 2020, 2021]\n",
        "c_avg = Car_Gasdf.groupby(['yr']).mean()\n",
        "t_avg = Truck_Gasdf.groupby(['yr']).mean()\n",
        "c_avg['fe_comb']\n",
        "type(t_avg['fe_comb'])\n",
        "\n",
        "X = np.array([0,1,2,3,4,5,6]).reshape(-1,1)\n",
        "y = np.array(c_avg['fe_comb'].tolist())\n",
        "t_y = np.array(t_avg['fe_comb'].tolist())\n",
        "\n",
        "x_test = np.array([0,1,2,3,4,5,6]).reshape(-1,1)\n",
        "\n",
        "t_model = LinearRegression()\n",
        "t_model.fit(X, t_y)\n",
        "t_y_pred = t_model.predict(x_test)\n",
        "\n",
        "\n",
        "\n",
        "a = t_avg['fe_comb'].plot.line()\n",
        "a.plot(years,t_y_pred)\n",
        "\n",
        "\n",
        "a.set_title('Average Fuel Economy')\n",
        "a.legend(['Trucks', 'Gas Cars', 'Trucks Trend', 'Cars Trend'])\n",
        "a.set_ylabel('Fuel Economy')\n",
        "\n",
        "t_y_p = t_model.predict(np.array([7,9]).reshape(-1,1))\n",
        "\n",
        "c_y_p = c_model.predict(np.array([7,9]).reshape(-1,1))\n",
        "\n",
        "\n",
        "print('Intercept: ', t_model.intercept_, '\\nSlope: ', t_model.coef_)\n",
        "\n",
        "\n",
        "# Gas car fuel economy increasing at .337 mpg per year\n",
        "# Gas truck fuel economy increasing at .224 mpg per year"
      ],
      "execution_count": null,
      "outputs": [
        {
          "output_type": "stream",
          "text": [
            "Intercept:  17.76516149944462 \n",
            "Slope:  [0.22412681]\n"
          ],
          "name": "stdout"
        },
        {
          "output_type": "display_data",
          "data": {
            "image/png": "[encoded data removed]",
            "text/plain": [
              "<Figure size 432x288 with 1 Axes>"
            ]
          },
          "metadata": {
            "tags": [],
            "needs_background": "light"
          }
        }
      ]
    },
    {
      "cell_type": "code",
      "metadata": {
        "colab": {
          "base_uri": "https://localhost:8080/",
          "height": 400
        },
        "id": "CmoywTERuhxk",
        "outputId": "831778a6-fdc8-4ad7-ed61-d3d1e3499f88"
      },
      "source": [
        "# Percentage increase in fuel economy of cars\n",
        "\n",
        "car_list = c_avg['fe_comb'].tolist()\n",
        "e_list = e_avg['fe_comb'].tolist()\n",
        "t_list = t_avg['fe_comb'].tolist()\n",
        "years = [2015, 2016, 2017, 2018, 2019, 2020, 2021]\n",
        "\n",
        "diff_list = []\n",
        "for i in range(0,7):\n",
        "  diff_list.append(e_list[i]/car_list[i])\n",
        "\n",
        "diff_list\n",
        "fig = plt.figure()\n",
        "ax = fig.add_axes([0,0,1,1])\n",
        "\n",
        "ax.bar(years, diff_list)\n",
        "ax.set_title('EV Car Fuel Economy Improvement Ratio')\n",
        "ax.set_xlabel('Year')\n",
        "ax.set_ylabel('Ratio')\n",
        "\n",
        "y = np.array(diff_list)\n",
        "\n",
        "X = np.array([0,1,2,3,4,5,6]).reshape(-1,1)\n",
        "\n",
        "x_test = np.array([0,1,2,3,4,5,6]).reshape(-1,1)\n",
        "\n",
        "d_model = LinearRegression()\n",
        "d_model.fit(X, y)\n",
        "d_y_pred = d_model.predict(x_test)\n",
        "\n",
        "print('Difference intercept: ', d_model.intercept_, 'Difference Slope: ', d_model.coef_)\n",
        "\n",
        "ax.plot(years, d_y_pred)\n",
        "\n",
        "#Trend shows gasoline cars catching up by ~2% per year, essentially flat\n",
        "#EVs have on average 300% fuel economy improvement vs their gas counterparts\n",
        "\n"
      ],
      "execution_count": null,
      "outputs": [
        {
          "output_type": "stream",
          "text": [
            "Difference intercept:  4.0982527402257585 Difference Slope:  [-0.02018437]\n"
          ],
          "name": "stdout"
        },
        {
          "output_type": "execute_result",
          "data": {
            "text/plain": [
              "[<matplotlib.lines.Line2D at 0x7f7ddb222950>]"
            ]
          },
          "metadata": {
            "tags": []
          },
          "execution_count": 134
        },
        {
          "output_type": "display_data",
          "data": {
            "image/png": "[encoded data removed]",
            "text/plain": [
              "<Figure size 432x288 with 1 Axes>"
            ]
          },
          "metadata": {
            "tags": [],
            "needs_background": "light"
          }
        }
      ]
    },
    {
      "cell_type": "code",
      "metadata": {
        "id": "XEk6VZVVY4BO",
        "colab": {
          "base_uri": "https://localhost:8080/",
          "height": 383
        },
        "outputId": "71398e4d-3fd0-4d8c-9c11-c95f100ee081"
      },
      "source": [
        "fig2 = plt.figure()\n",
        "b = fig2.add_axes([0,0,1,1])\n",
        "b.scatter(Car_Gasdf['eng'], Car_Gasdf['fe_comb'])\n",
        "b.set_title('Engine Displacement vs. Fuel Economy')\n",
        "b.set_xlabel('Engine Displacement')\n",
        "b.set_ylabel('Fuel Economy')"
      ],
      "execution_count": null,
      "outputs": [
        {
          "output_type": "execute_result",
          "data": {
            "text/plain": [
              "Text(0, 0.5, 'Fuel Economy')"
            ]
          },
          "metadata": {
            "tags": []
          },
          "execution_count": 130
        },
        {
          "output_type": "display_data",
          "data": {
            "image/png": "[encoded data removed]",
            "text/plain": [
              "<Figure size 432x288 with 1 Axes>"
            ]
          },
          "metadata": {
            "tags": [],
            "needs_background": "light"
          }
        }
      ]
    },
    {
      "cell_type": "code",
      "metadata": {
        "colab": {
          "base_uri": "https://localhost:8080/",
          "height": 383
        },
        "id": "iJwEPs0gQ4pJ",
        "outputId": "6124debb-7139-4d6d-ddb5-6ec3d1cb2925"
      },
      "source": [
        "fig2 = plt.figure()\n",
        "b = fig2.add_axes([0,0,1,1])\n",
        "b.scatter(Car_Gasdf['cyl'], Car_Gasdf['fe_comb'])\n",
        "b.set_title('Cylinders vs. Fuel Economy')\n",
        "b.set_xlabel('Cylinders')\n",
        "b.set_ylabel('Fuel Economy')"
      ],
      "execution_count": null,
      "outputs": [
        {
          "output_type": "execute_result",
          "data": {
            "text/plain": [
              "Text(0, 0.5, 'Fuel Economy')"
            ]
          },
          "metadata": {
            "tags": []
          },
          "execution_count": 131
        },
        {
          "output_type": "display_data",
          "data": {
            "image/png": "[encoded data removed]",
            "text/plain": [
              "<Figure size 432x288 with 1 Axes>"
            ]
          },
          "metadata": {
            "tags": [],
            "needs_background": "light"
          }
        }
      ]
    },
    {
      "cell_type": "code",
      "metadata": {
        "id": "E2EfloznZZnx",
        "colab": {
          "base_uri": "https://localhost:8080/"
        },
        "outputId": "23f9e409-64bd-4210-bfbc-a2eaae064beb"
      },
      "source": [
        "#fuel economy variance and standard deviation for EVs\n",
        "\n",
        "from statistics import variance, stdev\n",
        "\n",
        "v = EVdf['fe_comb'].tolist()\n",
        "print('Variance: ',variance(v))\n",
        "print('Standard Deviation: ', stdev(v))"
      ],
      "execution_count": null,
      "outputs": [
        {
          "output_type": "stream",
          "text": [
            "Variance:  200.35088554057626\n",
            "Standard Deviation:  14.154535864540959\n"
          ],
          "name": "stdout"
        }
      ]
    }
  ]
}